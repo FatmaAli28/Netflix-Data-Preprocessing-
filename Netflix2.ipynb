{
  "cells": [
    {
      "cell_type": "code",
      "execution_count": null,
      "metadata": {
        "id": "E-ha8OymTVNg"
      },
      "outputs": [],
      "source": [
        "import numpy as np\n",
        "import pandas as pd\n",
        "import matplotlib.pyplot as plt\n",
        "import seaborn as sns\n",
        "sns.set(rc={'figure.figsize':(20, 15)}, font_scale=1)"
      ]
    },
    {
      "cell_type": "code",
      "source": [
        "from google.colab import drive\n",
        "drive.mount('/content/drive')"
      ],
      "metadata": {
        "colab": {
          "base_uri": "https://localhost:8080/"
        },
        "id": "YPHzPBekhMsp",
        "outputId": "046886b0-6547-43c5-ad92-3d82405e21f3"
      },
      "execution_count": null,
      "outputs": [
        {
          "output_type": "stream",
          "name": "stdout",
          "text": [
            "Drive already mounted at /content/drive; to attempt to forcibly remount, call drive.mount(\"/content/drive\", force_remount=True).\n"
          ]
        }
      ]
    },
    {
      "cell_type": "code",
      "execution_count": null,
      "metadata": {
        "id": "GjiST8eUTVN-",
        "colab": {
          "base_uri": "https://localhost:8080/",
          "height": 424
        },
        "outputId": "ba0f5787-74da-4429-d42f-94c1b3384788"
      },
      "outputs": [
        {
          "output_type": "execute_result",
          "data": {
            "text/plain": [
              "     show_id     type                  title         director  \\\n",
              "0         s1    Movie   Dick Johnson Is Dead  Kirsten Johnson   \n",
              "1         s2  TV Show          Blood & Water              NaN   \n",
              "2         s3  TV Show              Ganglands  Julien Leclercq   \n",
              "3         s4  TV Show  Jailbirds New Orleans              NaN   \n",
              "4         s5  TV Show           Kota Factory              NaN   \n",
              "...      ...      ...                    ...              ...   \n",
              "8802   s8803    Movie                 Zodiac    David Fincher   \n",
              "8803   s8804  TV Show            Zombie Dumb              NaN   \n",
              "8804   s8805    Movie             Zombieland  Ruben Fleischer   \n",
              "8805   s8806    Movie                   Zoom     Peter Hewitt   \n",
              "8806   s8807    Movie                 Zubaan      Mozez Singh   \n",
              "\n",
              "                                                   cast        country  \\\n",
              "0                                                   NaN  United States   \n",
              "1     Ama Qamata, Khosi Ngema, Gail Mabalane, Thaban...   South Africa   \n",
              "2     Sami Bouajila, Tracy Gotoas, Samuel Jouy, Nabi...            NaN   \n",
              "3                                                   NaN            NaN   \n",
              "4     Mayur More, Jitendra Kumar, Ranjan Raj, Alam K...          India   \n",
              "...                                                 ...            ...   \n",
              "8802  Mark Ruffalo, Jake Gyllenhaal, Robert Downey J...  United States   \n",
              "8803                                                NaN            NaN   \n",
              "8804  Jesse Eisenberg, Woody Harrelson, Emma Stone, ...  United States   \n",
              "8805  Tim Allen, Courteney Cox, Chevy Chase, Kate Ma...  United States   \n",
              "8806  Vicky Kaushal, Sarah-Jane Dias, Raaghav Chanan...          India   \n",
              "\n",
              "              date_added  release_year rating   duration  \\\n",
              "0     September 25, 2021          2020  PG-13     90 min   \n",
              "1     September 24, 2021          2021  TV-MA  2 Seasons   \n",
              "2     September 24, 2021          2021  TV-MA   1 Season   \n",
              "3     September 24, 2021          2021  TV-MA   1 Season   \n",
              "4     September 24, 2021          2021  TV-MA  2 Seasons   \n",
              "...                  ...           ...    ...        ...   \n",
              "8802   November 20, 2019          2007      R    158 min   \n",
              "8803        July 1, 2019          2018  TV-Y7  2 Seasons   \n",
              "8804    November 1, 2019          2009      R     88 min   \n",
              "8805    January 11, 2020          2006     PG     88 min   \n",
              "8806       March 2, 2019          2015  TV-14    111 min   \n",
              "\n",
              "                                              listed_in  \\\n",
              "0                                         Documentaries   \n",
              "1       International TV Shows, TV Dramas, TV Mysteries   \n",
              "2     Crime TV Shows, International TV Shows, TV Act...   \n",
              "3                                Docuseries, Reality TV   \n",
              "4     International TV Shows, Romantic TV Shows, TV ...   \n",
              "...                                                 ...   \n",
              "8802                     Cult Movies, Dramas, Thrillers   \n",
              "8803             Kids' TV, Korean TV Shows, TV Comedies   \n",
              "8804                            Comedies, Horror Movies   \n",
              "8805                 Children & Family Movies, Comedies   \n",
              "8806     Dramas, International Movies, Music & Musicals   \n",
              "\n",
              "                                            description  \n",
              "0     As her father nears the end of his life, filmm...  \n",
              "1     After crossing paths at a party, a Cape Town t...  \n",
              "2     To protect his family from a powerful drug lor...  \n",
              "3     Feuds, flirtations and toilet talk go down amo...  \n",
              "4     In a city of coaching centers known to train I...  \n",
              "...                                                 ...  \n",
              "8802  A political cartoonist, a crime reporter and a...  \n",
              "8803  While living alone in a spooky town, a young g...  \n",
              "8804  Looking to survive in a world taken over by zo...  \n",
              "8805  Dragged from civilian life, a former superhero...  \n",
              "8806  A scrappy but poor boy worms his way into a ty...  \n",
              "\n",
              "[8807 rows x 12 columns]"
            ],
            "text/html": [
              "\n",
              "  <div id=\"df-1fad954c-0ae8-47d4-be9b-3a616f005e16\">\n",
              "    <div class=\"colab-df-container\">\n",
              "      <div>\n",
              "<style scoped>\n",
              "    .dataframe tbody tr th:only-of-type {\n",
              "        vertical-align: middle;\n",
              "    }\n",
              "\n",
              "    .dataframe tbody tr th {\n",
              "        vertical-align: top;\n",
              "    }\n",
              "\n",
              "    .dataframe thead th {\n",
              "        text-align: right;\n",
              "    }\n",
              "</style>\n",
              "<table border=\"1\" class=\"dataframe\">\n",
              "  <thead>\n",
              "    <tr style=\"text-align: right;\">\n",
              "      <th></th>\n",
              "      <th>show_id</th>\n",
              "      <th>type</th>\n",
              "      <th>title</th>\n",
              "      <th>director</th>\n",
              "      <th>cast</th>\n",
              "      <th>country</th>\n",
              "      <th>date_added</th>\n",
              "      <th>release_year</th>\n",
              "      <th>rating</th>\n",
              "      <th>duration</th>\n",
              "      <th>listed_in</th>\n",
              "      <th>description</th>\n",
              "    </tr>\n",
              "  </thead>\n",
              "  <tbody>\n",
              "    <tr>\n",
              "      <th>0</th>\n",
              "      <td>s1</td>\n",
              "      <td>Movie</td>\n",
              "      <td>Dick Johnson Is Dead</td>\n",
              "      <td>Kirsten Johnson</td>\n",
              "      <td>NaN</td>\n",
              "      <td>United States</td>\n",
              "      <td>September 25, 2021</td>\n",
              "      <td>2020</td>\n",
              "      <td>PG-13</td>\n",
              "      <td>90 min</td>\n",
              "      <td>Documentaries</td>\n",
              "      <td>As her father nears the end of his life, filmm...</td>\n",
              "    </tr>\n",
              "    <tr>\n",
              "      <th>1</th>\n",
              "      <td>s2</td>\n",
              "      <td>TV Show</td>\n",
              "      <td>Blood &amp; Water</td>\n",
              "      <td>NaN</td>\n",
              "      <td>Ama Qamata, Khosi Ngema, Gail Mabalane, Thaban...</td>\n",
              "      <td>South Africa</td>\n",
              "      <td>September 24, 2021</td>\n",
              "      <td>2021</td>\n",
              "      <td>TV-MA</td>\n",
              "      <td>2 Seasons</td>\n",
              "      <td>International TV Shows, TV Dramas, TV Mysteries</td>\n",
              "      <td>After crossing paths at a party, a Cape Town t...</td>\n",
              "    </tr>\n",
              "    <tr>\n",
              "      <th>2</th>\n",
              "      <td>s3</td>\n",
              "      <td>TV Show</td>\n",
              "      <td>Ganglands</td>\n",
              "      <td>Julien Leclercq</td>\n",
              "      <td>Sami Bouajila, Tracy Gotoas, Samuel Jouy, Nabi...</td>\n",
              "      <td>NaN</td>\n",
              "      <td>September 24, 2021</td>\n",
              "      <td>2021</td>\n",
              "      <td>TV-MA</td>\n",
              "      <td>1 Season</td>\n",
              "      <td>Crime TV Shows, International TV Shows, TV Act...</td>\n",
              "      <td>To protect his family from a powerful drug lor...</td>\n",
              "    </tr>\n",
              "    <tr>\n",
              "      <th>3</th>\n",
              "      <td>s4</td>\n",
              "      <td>TV Show</td>\n",
              "      <td>Jailbirds New Orleans</td>\n",
              "      <td>NaN</td>\n",
              "      <td>NaN</td>\n",
              "      <td>NaN</td>\n",
              "      <td>September 24, 2021</td>\n",
              "      <td>2021</td>\n",
              "      <td>TV-MA</td>\n",
              "      <td>1 Season</td>\n",
              "      <td>Docuseries, Reality TV</td>\n",
              "      <td>Feuds, flirtations and toilet talk go down amo...</td>\n",
              "    </tr>\n",
              "    <tr>\n",
              "      <th>4</th>\n",
              "      <td>s5</td>\n",
              "      <td>TV Show</td>\n",
              "      <td>Kota Factory</td>\n",
              "      <td>NaN</td>\n",
              "      <td>Mayur More, Jitendra Kumar, Ranjan Raj, Alam K...</td>\n",
              "      <td>India</td>\n",
              "      <td>September 24, 2021</td>\n",
              "      <td>2021</td>\n",
              "      <td>TV-MA</td>\n",
              "      <td>2 Seasons</td>\n",
              "      <td>International TV Shows, Romantic TV Shows, TV ...</td>\n",
              "      <td>In a city of coaching centers known to train I...</td>\n",
              "    </tr>\n",
              "    <tr>\n",
              "      <th>...</th>\n",
              "      <td>...</td>\n",
              "      <td>...</td>\n",
              "      <td>...</td>\n",
              "      <td>...</td>\n",
              "      <td>...</td>\n",
              "      <td>...</td>\n",
              "      <td>...</td>\n",
              "      <td>...</td>\n",
              "      <td>...</td>\n",
              "      <td>...</td>\n",
              "      <td>...</td>\n",
              "      <td>...</td>\n",
              "    </tr>\n",
              "    <tr>\n",
              "      <th>8802</th>\n",
              "      <td>s8803</td>\n",
              "      <td>Movie</td>\n",
              "      <td>Zodiac</td>\n",
              "      <td>David Fincher</td>\n",
              "      <td>Mark Ruffalo, Jake Gyllenhaal, Robert Downey J...</td>\n",
              "      <td>United States</td>\n",
              "      <td>November 20, 2019</td>\n",
              "      <td>2007</td>\n",
              "      <td>R</td>\n",
              "      <td>158 min</td>\n",
              "      <td>Cult Movies, Dramas, Thrillers</td>\n",
              "      <td>A political cartoonist, a crime reporter and a...</td>\n",
              "    </tr>\n",
              "    <tr>\n",
              "      <th>8803</th>\n",
              "      <td>s8804</td>\n",
              "      <td>TV Show</td>\n",
              "      <td>Zombie Dumb</td>\n",
              "      <td>NaN</td>\n",
              "      <td>NaN</td>\n",
              "      <td>NaN</td>\n",
              "      <td>July 1, 2019</td>\n",
              "      <td>2018</td>\n",
              "      <td>TV-Y7</td>\n",
              "      <td>2 Seasons</td>\n",
              "      <td>Kids' TV, Korean TV Shows, TV Comedies</td>\n",
              "      <td>While living alone in a spooky town, a young g...</td>\n",
              "    </tr>\n",
              "    <tr>\n",
              "      <th>8804</th>\n",
              "      <td>s8805</td>\n",
              "      <td>Movie</td>\n",
              "      <td>Zombieland</td>\n",
              "      <td>Ruben Fleischer</td>\n",
              "      <td>Jesse Eisenberg, Woody Harrelson, Emma Stone, ...</td>\n",
              "      <td>United States</td>\n",
              "      <td>November 1, 2019</td>\n",
              "      <td>2009</td>\n",
              "      <td>R</td>\n",
              "      <td>88 min</td>\n",
              "      <td>Comedies, Horror Movies</td>\n",
              "      <td>Looking to survive in a world taken over by zo...</td>\n",
              "    </tr>\n",
              "    <tr>\n",
              "      <th>8805</th>\n",
              "      <td>s8806</td>\n",
              "      <td>Movie</td>\n",
              "      <td>Zoom</td>\n",
              "      <td>Peter Hewitt</td>\n",
              "      <td>Tim Allen, Courteney Cox, Chevy Chase, Kate Ma...</td>\n",
              "      <td>United States</td>\n",
              "      <td>January 11, 2020</td>\n",
              "      <td>2006</td>\n",
              "      <td>PG</td>\n",
              "      <td>88 min</td>\n",
              "      <td>Children &amp; Family Movies, Comedies</td>\n",
              "      <td>Dragged from civilian life, a former superhero...</td>\n",
              "    </tr>\n",
              "    <tr>\n",
              "      <th>8806</th>\n",
              "      <td>s8807</td>\n",
              "      <td>Movie</td>\n",
              "      <td>Zubaan</td>\n",
              "      <td>Mozez Singh</td>\n",
              "      <td>Vicky Kaushal, Sarah-Jane Dias, Raaghav Chanan...</td>\n",
              "      <td>India</td>\n",
              "      <td>March 2, 2019</td>\n",
              "      <td>2015</td>\n",
              "      <td>TV-14</td>\n",
              "      <td>111 min</td>\n",
              "      <td>Dramas, International Movies, Music &amp; Musicals</td>\n",
              "      <td>A scrappy but poor boy worms his way into a ty...</td>\n",
              "    </tr>\n",
              "  </tbody>\n",
              "</table>\n",
              "<p>8807 rows × 12 columns</p>\n",
              "</div>\n",
              "      <button class=\"colab-df-convert\" onclick=\"convertToInteractive('df-1fad954c-0ae8-47d4-be9b-3a616f005e16')\"\n",
              "              title=\"Convert this dataframe to an interactive table.\"\n",
              "              style=\"display:none;\">\n",
              "        \n",
              "  <svg xmlns=\"http://www.w3.org/2000/svg\" height=\"24px\"viewBox=\"0 0 24 24\"\n",
              "       width=\"24px\">\n",
              "    <path d=\"M0 0h24v24H0V0z\" fill=\"none\"/>\n",
              "    <path d=\"M18.56 5.44l.94 2.06.94-2.06 2.06-.94-2.06-.94-.94-2.06-.94 2.06-2.06.94zm-11 1L8.5 8.5l.94-2.06 2.06-.94-2.06-.94L8.5 2.5l-.94 2.06-2.06.94zm10 10l.94 2.06.94-2.06 2.06-.94-2.06-.94-.94-2.06-.94 2.06-2.06.94z\"/><path d=\"M17.41 7.96l-1.37-1.37c-.4-.4-.92-.59-1.43-.59-.52 0-1.04.2-1.43.59L10.3 9.45l-7.72 7.72c-.78.78-.78 2.05 0 2.83L4 21.41c.39.39.9.59 1.41.59.51 0 1.02-.2 1.41-.59l7.78-7.78 2.81-2.81c.8-.78.8-2.07 0-2.86zM5.41 20L4 18.59l7.72-7.72 1.47 1.35L5.41 20z\"/>\n",
              "  </svg>\n",
              "      </button>\n",
              "      \n",
              "  <style>\n",
              "    .colab-df-container {\n",
              "      display:flex;\n",
              "      flex-wrap:wrap;\n",
              "      gap: 12px;\n",
              "    }\n",
              "\n",
              "    .colab-df-convert {\n",
              "      background-color: #E8F0FE;\n",
              "      border: none;\n",
              "      border-radius: 50%;\n",
              "      cursor: pointer;\n",
              "      display: none;\n",
              "      fill: #1967D2;\n",
              "      height: 32px;\n",
              "      padding: 0 0 0 0;\n",
              "      width: 32px;\n",
              "    }\n",
              "\n",
              "    .colab-df-convert:hover {\n",
              "      background-color: #E2EBFA;\n",
              "      box-shadow: 0px 1px 2px rgba(60, 64, 67, 0.3), 0px 1px 3px 1px rgba(60, 64, 67, 0.15);\n",
              "      fill: #174EA6;\n",
              "    }\n",
              "\n",
              "    [theme=dark] .colab-df-convert {\n",
              "      background-color: #3B4455;\n",
              "      fill: #D2E3FC;\n",
              "    }\n",
              "\n",
              "    [theme=dark] .colab-df-convert:hover {\n",
              "      background-color: #434B5C;\n",
              "      box-shadow: 0px 1px 3px 1px rgba(0, 0, 0, 0.15);\n",
              "      filter: drop-shadow(0px 1px 2px rgba(0, 0, 0, 0.3));\n",
              "      fill: #FFFFFF;\n",
              "    }\n",
              "  </style>\n",
              "\n",
              "      <script>\n",
              "        const buttonEl =\n",
              "          document.querySelector('#df-1fad954c-0ae8-47d4-be9b-3a616f005e16 button.colab-df-convert');\n",
              "        buttonEl.style.display =\n",
              "          google.colab.kernel.accessAllowed ? 'block' : 'none';\n",
              "\n",
              "        async function convertToInteractive(key) {\n",
              "          const element = document.querySelector('#df-1fad954c-0ae8-47d4-be9b-3a616f005e16');\n",
              "          const dataTable =\n",
              "            await google.colab.kernel.invokeFunction('convertToInteractive',\n",
              "                                                     [key], {});\n",
              "          if (!dataTable) return;\n",
              "\n",
              "          const docLinkHtml = 'Like what you see? Visit the ' +\n",
              "            '<a target=\"_blank\" href=https://colab.research.google.com/notebooks/data_table.ipynb>data table notebook</a>'\n",
              "            + ' to learn more about interactive tables.';\n",
              "          element.innerHTML = '';\n",
              "          dataTable['output_type'] = 'display_data';\n",
              "          await google.colab.output.renderOutput(dataTable, element);\n",
              "          const docLink = document.createElement('div');\n",
              "          docLink.innerHTML = docLinkHtml;\n",
              "          element.appendChild(docLink);\n",
              "        }\n",
              "      </script>\n",
              "    </div>\n",
              "  </div>\n",
              "  "
            ]
          },
          "metadata": {},
          "execution_count": 42
        }
      ],
      "source": [
        "df=pd.read_csv('/content/drive/MyDrive/IEEE/netflix_titles.csv')\n",
        "df"
      ]
    },
    {
      "cell_type": "code",
      "execution_count": null,
      "metadata": {
        "colab": {
          "base_uri": "https://localhost:8080/",
          "height": 207
        },
        "id": "2tb9jCsYTVOA",
        "outputId": "f232d365-df5b-4a6f-f93e-9c39cd005548"
      },
      "outputs": [
        {
          "output_type": "execute_result",
          "data": {
            "text/plain": [
              "  show_id     type                  title         director  \\\n",
              "0      s1    Movie   Dick Johnson Is Dead  Kirsten Johnson   \n",
              "1      s2  TV Show          Blood & Water              NaN   \n",
              "2      s3  TV Show              Ganglands  Julien Leclercq   \n",
              "3      s4  TV Show  Jailbirds New Orleans              NaN   \n",
              "4      s5  TV Show           Kota Factory              NaN   \n",
              "\n",
              "                                                cast        country  \\\n",
              "0                                                NaN  United States   \n",
              "1  Ama Qamata, Khosi Ngema, Gail Mabalane, Thaban...   South Africa   \n",
              "2  Sami Bouajila, Tracy Gotoas, Samuel Jouy, Nabi...            NaN   \n",
              "3                                                NaN            NaN   \n",
              "4  Mayur More, Jitendra Kumar, Ranjan Raj, Alam K...          India   \n",
              "\n",
              "           date_added  release_year rating   duration  \\\n",
              "0  September 25, 2021          2020  PG-13     90 min   \n",
              "1  September 24, 2021          2021  TV-MA  2 Seasons   \n",
              "2  September 24, 2021          2021  TV-MA   1 Season   \n",
              "3  September 24, 2021          2021  TV-MA   1 Season   \n",
              "4  September 24, 2021          2021  TV-MA  2 Seasons   \n",
              "\n",
              "                                           listed_in  \\\n",
              "0                                      Documentaries   \n",
              "1    International TV Shows, TV Dramas, TV Mysteries   \n",
              "2  Crime TV Shows, International TV Shows, TV Act...   \n",
              "3                             Docuseries, Reality TV   \n",
              "4  International TV Shows, Romantic TV Shows, TV ...   \n",
              "\n",
              "                                         description  \n",
              "0  As her father nears the end of his life, filmm...  \n",
              "1  After crossing paths at a party, a Cape Town t...  \n",
              "2  To protect his family from a powerful drug lor...  \n",
              "3  Feuds, flirtations and toilet talk go down amo...  \n",
              "4  In a city of coaching centers known to train I...  "
            ],
            "text/html": [
              "\n",
              "  <div id=\"df-43ddf090-ce1d-4a49-b81e-a275087d682c\">\n",
              "    <div class=\"colab-df-container\">\n",
              "      <div>\n",
              "<style scoped>\n",
              "    .dataframe tbody tr th:only-of-type {\n",
              "        vertical-align: middle;\n",
              "    }\n",
              "\n",
              "    .dataframe tbody tr th {\n",
              "        vertical-align: top;\n",
              "    }\n",
              "\n",
              "    .dataframe thead th {\n",
              "        text-align: right;\n",
              "    }\n",
              "</style>\n",
              "<table border=\"1\" class=\"dataframe\">\n",
              "  <thead>\n",
              "    <tr style=\"text-align: right;\">\n",
              "      <th></th>\n",
              "      <th>show_id</th>\n",
              "      <th>type</th>\n",
              "      <th>title</th>\n",
              "      <th>director</th>\n",
              "      <th>cast</th>\n",
              "      <th>country</th>\n",
              "      <th>date_added</th>\n",
              "      <th>release_year</th>\n",
              "      <th>rating</th>\n",
              "      <th>duration</th>\n",
              "      <th>listed_in</th>\n",
              "      <th>description</th>\n",
              "    </tr>\n",
              "  </thead>\n",
              "  <tbody>\n",
              "    <tr>\n",
              "      <th>0</th>\n",
              "      <td>s1</td>\n",
              "      <td>Movie</td>\n",
              "      <td>Dick Johnson Is Dead</td>\n",
              "      <td>Kirsten Johnson</td>\n",
              "      <td>NaN</td>\n",
              "      <td>United States</td>\n",
              "      <td>September 25, 2021</td>\n",
              "      <td>2020</td>\n",
              "      <td>PG-13</td>\n",
              "      <td>90 min</td>\n",
              "      <td>Documentaries</td>\n",
              "      <td>As her father nears the end of his life, filmm...</td>\n",
              "    </tr>\n",
              "    <tr>\n",
              "      <th>1</th>\n",
              "      <td>s2</td>\n",
              "      <td>TV Show</td>\n",
              "      <td>Blood &amp; Water</td>\n",
              "      <td>NaN</td>\n",
              "      <td>Ama Qamata, Khosi Ngema, Gail Mabalane, Thaban...</td>\n",
              "      <td>South Africa</td>\n",
              "      <td>September 24, 2021</td>\n",
              "      <td>2021</td>\n",
              "      <td>TV-MA</td>\n",
              "      <td>2 Seasons</td>\n",
              "      <td>International TV Shows, TV Dramas, TV Mysteries</td>\n",
              "      <td>After crossing paths at a party, a Cape Town t...</td>\n",
              "    </tr>\n",
              "    <tr>\n",
              "      <th>2</th>\n",
              "      <td>s3</td>\n",
              "      <td>TV Show</td>\n",
              "      <td>Ganglands</td>\n",
              "      <td>Julien Leclercq</td>\n",
              "      <td>Sami Bouajila, Tracy Gotoas, Samuel Jouy, Nabi...</td>\n",
              "      <td>NaN</td>\n",
              "      <td>September 24, 2021</td>\n",
              "      <td>2021</td>\n",
              "      <td>TV-MA</td>\n",
              "      <td>1 Season</td>\n",
              "      <td>Crime TV Shows, International TV Shows, TV Act...</td>\n",
              "      <td>To protect his family from a powerful drug lor...</td>\n",
              "    </tr>\n",
              "    <tr>\n",
              "      <th>3</th>\n",
              "      <td>s4</td>\n",
              "      <td>TV Show</td>\n",
              "      <td>Jailbirds New Orleans</td>\n",
              "      <td>NaN</td>\n",
              "      <td>NaN</td>\n",
              "      <td>NaN</td>\n",
              "      <td>September 24, 2021</td>\n",
              "      <td>2021</td>\n",
              "      <td>TV-MA</td>\n",
              "      <td>1 Season</td>\n",
              "      <td>Docuseries, Reality TV</td>\n",
              "      <td>Feuds, flirtations and toilet talk go down amo...</td>\n",
              "    </tr>\n",
              "    <tr>\n",
              "      <th>4</th>\n",
              "      <td>s5</td>\n",
              "      <td>TV Show</td>\n",
              "      <td>Kota Factory</td>\n",
              "      <td>NaN</td>\n",
              "      <td>Mayur More, Jitendra Kumar, Ranjan Raj, Alam K...</td>\n",
              "      <td>India</td>\n",
              "      <td>September 24, 2021</td>\n",
              "      <td>2021</td>\n",
              "      <td>TV-MA</td>\n",
              "      <td>2 Seasons</td>\n",
              "      <td>International TV Shows, Romantic TV Shows, TV ...</td>\n",
              "      <td>In a city of coaching centers known to train I...</td>\n",
              "    </tr>\n",
              "  </tbody>\n",
              "</table>\n",
              "</div>\n",
              "      <button class=\"colab-df-convert\" onclick=\"convertToInteractive('df-43ddf090-ce1d-4a49-b81e-a275087d682c')\"\n",
              "              title=\"Convert this dataframe to an interactive table.\"\n",
              "              style=\"display:none;\">\n",
              "        \n",
              "  <svg xmlns=\"http://www.w3.org/2000/svg\" height=\"24px\"viewBox=\"0 0 24 24\"\n",
              "       width=\"24px\">\n",
              "    <path d=\"M0 0h24v24H0V0z\" fill=\"none\"/>\n",
              "    <path d=\"M18.56 5.44l.94 2.06.94-2.06 2.06-.94-2.06-.94-.94-2.06-.94 2.06-2.06.94zm-11 1L8.5 8.5l.94-2.06 2.06-.94-2.06-.94L8.5 2.5l-.94 2.06-2.06.94zm10 10l.94 2.06.94-2.06 2.06-.94-2.06-.94-.94-2.06-.94 2.06-2.06.94z\"/><path d=\"M17.41 7.96l-1.37-1.37c-.4-.4-.92-.59-1.43-.59-.52 0-1.04.2-1.43.59L10.3 9.45l-7.72 7.72c-.78.78-.78 2.05 0 2.83L4 21.41c.39.39.9.59 1.41.59.51 0 1.02-.2 1.41-.59l7.78-7.78 2.81-2.81c.8-.78.8-2.07 0-2.86zM5.41 20L4 18.59l7.72-7.72 1.47 1.35L5.41 20z\"/>\n",
              "  </svg>\n",
              "      </button>\n",
              "      \n",
              "  <style>\n",
              "    .colab-df-container {\n",
              "      display:flex;\n",
              "      flex-wrap:wrap;\n",
              "      gap: 12px;\n",
              "    }\n",
              "\n",
              "    .colab-df-convert {\n",
              "      background-color: #E8F0FE;\n",
              "      border: none;\n",
              "      border-radius: 50%;\n",
              "      cursor: pointer;\n",
              "      display: none;\n",
              "      fill: #1967D2;\n",
              "      height: 32px;\n",
              "      padding: 0 0 0 0;\n",
              "      width: 32px;\n",
              "    }\n",
              "\n",
              "    .colab-df-convert:hover {\n",
              "      background-color: #E2EBFA;\n",
              "      box-shadow: 0px 1px 2px rgba(60, 64, 67, 0.3), 0px 1px 3px 1px rgba(60, 64, 67, 0.15);\n",
              "      fill: #174EA6;\n",
              "    }\n",
              "\n",
              "    [theme=dark] .colab-df-convert {\n",
              "      background-color: #3B4455;\n",
              "      fill: #D2E3FC;\n",
              "    }\n",
              "\n",
              "    [theme=dark] .colab-df-convert:hover {\n",
              "      background-color: #434B5C;\n",
              "      box-shadow: 0px 1px 3px 1px rgba(0, 0, 0, 0.15);\n",
              "      filter: drop-shadow(0px 1px 2px rgba(0, 0, 0, 0.3));\n",
              "      fill: #FFFFFF;\n",
              "    }\n",
              "  </style>\n",
              "\n",
              "      <script>\n",
              "        const buttonEl =\n",
              "          document.querySelector('#df-43ddf090-ce1d-4a49-b81e-a275087d682c button.colab-df-convert');\n",
              "        buttonEl.style.display =\n",
              "          google.colab.kernel.accessAllowed ? 'block' : 'none';\n",
              "\n",
              "        async function convertToInteractive(key) {\n",
              "          const element = document.querySelector('#df-43ddf090-ce1d-4a49-b81e-a275087d682c');\n",
              "          const dataTable =\n",
              "            await google.colab.kernel.invokeFunction('convertToInteractive',\n",
              "                                                     [key], {});\n",
              "          if (!dataTable) return;\n",
              "\n",
              "          const docLinkHtml = 'Like what you see? Visit the ' +\n",
              "            '<a target=\"_blank\" href=https://colab.research.google.com/notebooks/data_table.ipynb>data table notebook</a>'\n",
              "            + ' to learn more about interactive tables.';\n",
              "          element.innerHTML = '';\n",
              "          dataTable['output_type'] = 'display_data';\n",
              "          await google.colab.output.renderOutput(dataTable, element);\n",
              "          const docLink = document.createElement('div');\n",
              "          docLink.innerHTML = docLinkHtml;\n",
              "          element.appendChild(docLink);\n",
              "        }\n",
              "      </script>\n",
              "    </div>\n",
              "  </div>\n",
              "  "
            ]
          },
          "metadata": {},
          "execution_count": 43
        }
      ],
      "source": [
        "df.head()"
      ]
    },
    {
      "cell_type": "code",
      "execution_count": null,
      "metadata": {
        "colab": {
          "base_uri": "https://localhost:8080/"
        },
        "id": "ycNFvG_WTVOF",
        "outputId": "33ac04b4-3c54-4cf0-dcfc-40193daf118f"
      },
      "outputs": [
        {
          "output_type": "stream",
          "name": "stdout",
          "text": [
            "<class 'pandas.core.frame.DataFrame'>\n",
            "RangeIndex: 8807 entries, 0 to 8806\n",
            "Data columns (total 12 columns):\n",
            " #   Column        Non-Null Count  Dtype \n",
            "---  ------        --------------  ----- \n",
            " 0   show_id       8807 non-null   object\n",
            " 1   type          8807 non-null   object\n",
            " 2   title         8807 non-null   object\n",
            " 3   director      6173 non-null   object\n",
            " 4   cast          7982 non-null   object\n",
            " 5   country       7976 non-null   object\n",
            " 6   date_added    8797 non-null   object\n",
            " 7   release_year  8807 non-null   int64 \n",
            " 8   rating        8803 non-null   object\n",
            " 9   duration      8804 non-null   object\n",
            " 10  listed_in     8807 non-null   object\n",
            " 11  description   8807 non-null   object\n",
            "dtypes: int64(1), object(11)\n",
            "memory usage: 825.8+ KB\n"
          ]
        }
      ],
      "source": [
        "df.info()"
      ]
    },
    {
      "cell_type": "code",
      "execution_count": null,
      "metadata": {
        "colab": {
          "base_uri": "https://localhost:8080/",
          "height": 301
        },
        "id": "3ZEFsFjlTVOH",
        "outputId": "29826166-02c7-43a8-a35b-da840478e80a"
      },
      "outputs": [
        {
          "output_type": "execute_result",
          "data": {
            "text/plain": [
              "       release_year\n",
              "count   8807.000000\n",
              "mean    2014.180198\n",
              "std        8.819312\n",
              "min     1925.000000\n",
              "25%     2013.000000\n",
              "50%     2017.000000\n",
              "75%     2019.000000\n",
              "max     2021.000000"
            ],
            "text/html": [
              "\n",
              "  <div id=\"df-b00a1fc0-4d26-4498-b46b-98b1c93a1e34\">\n",
              "    <div class=\"colab-df-container\">\n",
              "      <div>\n",
              "<style scoped>\n",
              "    .dataframe tbody tr th:only-of-type {\n",
              "        vertical-align: middle;\n",
              "    }\n",
              "\n",
              "    .dataframe tbody tr th {\n",
              "        vertical-align: top;\n",
              "    }\n",
              "\n",
              "    .dataframe thead th {\n",
              "        text-align: right;\n",
              "    }\n",
              "</style>\n",
              "<table border=\"1\" class=\"dataframe\">\n",
              "  <thead>\n",
              "    <tr style=\"text-align: right;\">\n",
              "      <th></th>\n",
              "      <th>release_year</th>\n",
              "    </tr>\n",
              "  </thead>\n",
              "  <tbody>\n",
              "    <tr>\n",
              "      <th>count</th>\n",
              "      <td>8807.000000</td>\n",
              "    </tr>\n",
              "    <tr>\n",
              "      <th>mean</th>\n",
              "      <td>2014.180198</td>\n",
              "    </tr>\n",
              "    <tr>\n",
              "      <th>std</th>\n",
              "      <td>8.819312</td>\n",
              "    </tr>\n",
              "    <tr>\n",
              "      <th>min</th>\n",
              "      <td>1925.000000</td>\n",
              "    </tr>\n",
              "    <tr>\n",
              "      <th>25%</th>\n",
              "      <td>2013.000000</td>\n",
              "    </tr>\n",
              "    <tr>\n",
              "      <th>50%</th>\n",
              "      <td>2017.000000</td>\n",
              "    </tr>\n",
              "    <tr>\n",
              "      <th>75%</th>\n",
              "      <td>2019.000000</td>\n",
              "    </tr>\n",
              "    <tr>\n",
              "      <th>max</th>\n",
              "      <td>2021.000000</td>\n",
              "    </tr>\n",
              "  </tbody>\n",
              "</table>\n",
              "</div>\n",
              "      <button class=\"colab-df-convert\" onclick=\"convertToInteractive('df-b00a1fc0-4d26-4498-b46b-98b1c93a1e34')\"\n",
              "              title=\"Convert this dataframe to an interactive table.\"\n",
              "              style=\"display:none;\">\n",
              "        \n",
              "  <svg xmlns=\"http://www.w3.org/2000/svg\" height=\"24px\"viewBox=\"0 0 24 24\"\n",
              "       width=\"24px\">\n",
              "    <path d=\"M0 0h24v24H0V0z\" fill=\"none\"/>\n",
              "    <path d=\"M18.56 5.44l.94 2.06.94-2.06 2.06-.94-2.06-.94-.94-2.06-.94 2.06-2.06.94zm-11 1L8.5 8.5l.94-2.06 2.06-.94-2.06-.94L8.5 2.5l-.94 2.06-2.06.94zm10 10l.94 2.06.94-2.06 2.06-.94-2.06-.94-.94-2.06-.94 2.06-2.06.94z\"/><path d=\"M17.41 7.96l-1.37-1.37c-.4-.4-.92-.59-1.43-.59-.52 0-1.04.2-1.43.59L10.3 9.45l-7.72 7.72c-.78.78-.78 2.05 0 2.83L4 21.41c.39.39.9.59 1.41.59.51 0 1.02-.2 1.41-.59l7.78-7.78 2.81-2.81c.8-.78.8-2.07 0-2.86zM5.41 20L4 18.59l7.72-7.72 1.47 1.35L5.41 20z\"/>\n",
              "  </svg>\n",
              "      </button>\n",
              "      \n",
              "  <style>\n",
              "    .colab-df-container {\n",
              "      display:flex;\n",
              "      flex-wrap:wrap;\n",
              "      gap: 12px;\n",
              "    }\n",
              "\n",
              "    .colab-df-convert {\n",
              "      background-color: #E8F0FE;\n",
              "      border: none;\n",
              "      border-radius: 50%;\n",
              "      cursor: pointer;\n",
              "      display: none;\n",
              "      fill: #1967D2;\n",
              "      height: 32px;\n",
              "      padding: 0 0 0 0;\n",
              "      width: 32px;\n",
              "    }\n",
              "\n",
              "    .colab-df-convert:hover {\n",
              "      background-color: #E2EBFA;\n",
              "      box-shadow: 0px 1px 2px rgba(60, 64, 67, 0.3), 0px 1px 3px 1px rgba(60, 64, 67, 0.15);\n",
              "      fill: #174EA6;\n",
              "    }\n",
              "\n",
              "    [theme=dark] .colab-df-convert {\n",
              "      background-color: #3B4455;\n",
              "      fill: #D2E3FC;\n",
              "    }\n",
              "\n",
              "    [theme=dark] .colab-df-convert:hover {\n",
              "      background-color: #434B5C;\n",
              "      box-shadow: 0px 1px 3px 1px rgba(0, 0, 0, 0.15);\n",
              "      filter: drop-shadow(0px 1px 2px rgba(0, 0, 0, 0.3));\n",
              "      fill: #FFFFFF;\n",
              "    }\n",
              "  </style>\n",
              "\n",
              "      <script>\n",
              "        const buttonEl =\n",
              "          document.querySelector('#df-b00a1fc0-4d26-4498-b46b-98b1c93a1e34 button.colab-df-convert');\n",
              "        buttonEl.style.display =\n",
              "          google.colab.kernel.accessAllowed ? 'block' : 'none';\n",
              "\n",
              "        async function convertToInteractive(key) {\n",
              "          const element = document.querySelector('#df-b00a1fc0-4d26-4498-b46b-98b1c93a1e34');\n",
              "          const dataTable =\n",
              "            await google.colab.kernel.invokeFunction('convertToInteractive',\n",
              "                                                     [key], {});\n",
              "          if (!dataTable) return;\n",
              "\n",
              "          const docLinkHtml = 'Like what you see? Visit the ' +\n",
              "            '<a target=\"_blank\" href=https://colab.research.google.com/notebooks/data_table.ipynb>data table notebook</a>'\n",
              "            + ' to learn more about interactive tables.';\n",
              "          element.innerHTML = '';\n",
              "          dataTable['output_type'] = 'display_data';\n",
              "          await google.colab.output.renderOutput(dataTable, element);\n",
              "          const docLink = document.createElement('div');\n",
              "          docLink.innerHTML = docLinkHtml;\n",
              "          element.appendChild(docLink);\n",
              "        }\n",
              "      </script>\n",
              "    </div>\n",
              "  </div>\n",
              "  "
            ]
          },
          "metadata": {},
          "execution_count": 45
        }
      ],
      "source": [
        "df.describe()"
      ]
    },
    {
      "cell_type": "code",
      "execution_count": null,
      "metadata": {
        "colab": {
          "base_uri": "https://localhost:8080/",
          "height": 721
        },
        "id": "eromHyWdTVOJ",
        "scrolled": true,
        "outputId": "2defef36-6868-46e0-c87f-e5900ea0bc25"
      },
      "outputs": [
        {
          "output_type": "execute_result",
          "data": {
            "text/plain": [
              "     show_id     type                                          title  \\\n",
              "7488   s7489    Movie                                 Monster Family   \n",
              "630     s631    Movie                            Killing Them Softly   \n",
              "7559   s7560    Movie                Naruto Shippuden : Blood Prison   \n",
              "1406   s1407    Movie              Penguins of Madagascar: The Movie   \n",
              "8666   s8667    Movie                                     Used Goods   \n",
              "4576   s4577    Movie                                   Khido Khundi   \n",
              "6773   s6774  TV Show                        Food: Delicious Science   \n",
              "2181   s2182  TV Show               Transformers Rescue Bots Academy   \n",
              "2842   s2843    Movie                            Tootsies & The Fake   \n",
              "6968   s6969    Movie                                  Highly Strung   \n",
              "322     s323  TV Show                              You're My Destiny   \n",
              "3639   s3640    Movie                               Girls With Balls   \n",
              "5820   s5821    Movie  Lavell Crawford: Can a Brother Get Some Love?   \n",
              "1933   s1934  TV Show                                      Wentworth   \n",
              "6940   s6941    Movie                     Have You Seen the Listers?   \n",
              "7275   s7276    Movie                       LeapFrog: Letter Factory   \n",
              "3608   s3609  TV Show                                Jane The Virgin   \n",
              "3076   s3077  TV Show                            The Bride of Habaek   \n",
              "5697   s5698    Movie                             Across Grace Alley   \n",
              "1659   s1660    Movie                                      Hard Kill   \n",
              "\n",
              "                          director  \\\n",
              "7488                  Holger Tappe   \n",
              "630                 Andrew Dominik   \n",
              "7559               Masahiko Murata   \n",
              "1406  Eric Darnell, Simon J. Smith   \n",
              "8666                 Mohamed Hamdy   \n",
              "4576                  Rohit Jugraj   \n",
              "6773                           NaN   \n",
              "2181                           NaN   \n",
              "2842            Kittiphak Thonguam   \n",
              "6968                   Scott Hicks   \n",
              "322                            NaN   \n",
              "3639                Olivier Afonso   \n",
              "5820                 Michael Drumm   \n",
              "1933                           NaN   \n",
              "6940                  Eddie Martin   \n",
              "7275               Roy Allen Smith   \n",
              "3608                           NaN   \n",
              "3076                           NaN   \n",
              "5697                 Ralph Macchio   \n",
              "1659                Matt Eskandari   \n",
              "\n",
              "                                                   cast  \\\n",
              "7488  Celia Imrie, Emily Watson, Catherine Tate, Jas...   \n",
              "630   Brad Pitt, Scoot McNairy, Ben Mendelsohn, Rich...   \n",
              "7559  Junko Takeuchi, Chie Nakamura, Rikiya Koyama, ...   \n",
              "1406  Tom McGrath, Christopher Knights, Chris Miller...   \n",
              "8666      Mohamed Ragab, Ayten Amer, Hassan Abdulfattah   \n",
              "4576  Ranjit Bawa, Mandy Takhar, Manav Vij, Elnaaz N...   \n",
              "6773                         Michael Mosley, James Wong   \n",
              "2181  Adam Andrianopolous, Pierce Cravens, Xander Cr...   \n",
              "2842  Araya A. Hargate, Paopetch Charoensook, Thongk...   \n",
              "6968                                                NaN   \n",
              "322   Joe Chen, Ethan Juan, Baron Chen, Bianca Bai, ...   \n",
              "3639  Victor Artus Solaro, Manon Azem, Louise Blachè...   \n",
              "5820                                    Lavell Crawford   \n",
              "1933  Danielle Cormack, Nicole da Silva, Kate Atkins...   \n",
              "6940                                     Anthony Lister   \n",
              "7275  Joey Camen, Marie Danielle, Mark Cacciatore, D...   \n",
              "3608  Gina Rodriguez, Andrea Navedo, Yael Grobglas, ...   \n",
              "3076  Shin Sae-kyeong, Nam Joo-hyuk, Lim Ju-hwan, Kr...   \n",
              "5697  Ben Hyland, Marsha Mason, Karina Smirnoff, Col...   \n",
              "1659  Jesse Metcalfe, Bruce Willis, Natalie Eva Mari...   \n",
              "\n",
              "                      country          date_added  release_year rating  \\\n",
              "7488  Germany, United Kingdom       April 4, 2018          2017     PG   \n",
              "630             United States       June 28, 2021          2012      R   \n",
              "7559                    Japan   September 1, 2017          2011  TV-14   \n",
              "1406            United States    January 15, 2021          2014     PG   \n",
              "8666                    Egypt   September 1, 2019          2018  TV-14   \n",
              "4576                    India     October 1, 2018          2018  TV-14   \n",
              "6773                      NaN     October 1, 2017          2017  TV-PG   \n",
              "2181            United States      August 1, 2020          2020   TV-Y   \n",
              "2842                 Thailand       March 5, 2020          2019  TV-MA   \n",
              "6968                Australia    February 1, 2017          2015  TV-14   \n",
              "322                    Taiwan      August 3, 2021          2008  TV-MA   \n",
              "3639          France, Belgium       July 26, 2019          2019  TV-MA   \n",
              "5820            United States      August 2, 2016          2011  TV-MA   \n",
              "1933                Australia  September 30, 2020          2020  TV-MA   \n",
              "6940                Australia    February 1, 2019          2017  TV-MA   \n",
              "7275            United States      April 15, 2020          2003   TV-Y   \n",
              "3608            United States      August 8, 2019          2019  TV-14   \n",
              "3076              South Korea     January 1, 2020          2017  TV-14   \n",
              "5697            United States    December 1, 2016          2013  TV-PG   \n",
              "1659            United States   November 23, 2020          2020      R   \n",
              "\n",
              "       duration                                          listed_in  \\\n",
              "7488     93 min                           Children & Family Movies   \n",
              "630      97 min                                             Dramas   \n",
              "7559    102 min  Action & Adventure, Anime Features, Internatio...   \n",
              "1406     92 min                 Children & Family Movies, Comedies   \n",
              "8666     95 min  Action & Adventure, Comedies, International Mo...   \n",
              "4576    151 min        Dramas, International Movies, Sports Movies   \n",
              "6773   1 Season                    Docuseries, Science & Nature TV   \n",
              "2181  2 Seasons                                           Kids' TV   \n",
              "2842    108 min       Comedies, International Movies, LGBTQ Movies   \n",
              "6968     80 min  Documentaries, International Movies, Music & M...   \n",
              "322    1 Season  International TV Shows, Romantic TV Shows, TV ...   \n",
              "3639     77 min      Comedies, Horror Movies, International Movies   \n",
              "5820     81 min                                    Stand-Up Comedy   \n",
              "1933  8 Seasons                          Crime TV Shows, TV Dramas   \n",
              "6940     86 min                Documentaries, International Movies   \n",
              "7275     37 min                           Children & Family Movies   \n",
              "3608  5 Seasons          Romantic TV Shows, TV Comedies, TV Dramas   \n",
              "3076   1 Season  International TV Shows, Korean TV Shows, Roman...   \n",
              "5697     24 min                                             Dramas   \n",
              "1659     98 min                                 Action & Adventure   \n",
              "\n",
              "                                            description  \n",
              "7488  A family’s festive Halloween plans take a spoo...  \n",
              "630   When a couple of low-level crooks rob a Mob-pr...  \n",
              "7559  Mistakenly accused of an attack on the Fourth ...  \n",
              "1406  Elite penguin spies Skipper, Kowalski, Rico an...  \n",
              "8666  To evade greedy pharmaceutical crooks, a medic...  \n",
              "4576  An embittered former hockey star must engage w...  \n",
              "6773  In this series, TV presenter Michael Mosley an...  \n",
              "2181  As part of the first class at the Rescue Bots ...  \n",
              "2842  After knocking a celebrity unconscious before ...  \n",
              "6968  Fiery passions take center stage in this intim...  \n",
              "322   A young woman's romantic cruise ends in a twis...  \n",
              "3639  Stranded in the woods and eyeballed by twisted...  \n",
              "5820  \"Last Comic Standing\" runner-up Lavell Crawfor...  \n",
              "1933  Bea Smith is locked up while awaiting trial fo...  \n",
              "6940  This documentary paints a candid picture of Au...  \n",
              "7275  In this entertaining installment of the wildly...  \n",
              "3608  After vowing to remain chaste until marriage, ...  \n",
              "3076  When a quest for divine stones in the human wo...  \n",
              "5697  A young boy, upset by his parents' divorce, be...  \n",
              "1659  When a billionaire hires a team of mercenaries...  "
            ],
            "text/html": [
              "\n",
              "  <div id=\"df-ebbb6c4c-a611-4610-90a5-b787eb1a7c47\">\n",
              "    <div class=\"colab-df-container\">\n",
              "      <div>\n",
              "<style scoped>\n",
              "    .dataframe tbody tr th:only-of-type {\n",
              "        vertical-align: middle;\n",
              "    }\n",
              "\n",
              "    .dataframe tbody tr th {\n",
              "        vertical-align: top;\n",
              "    }\n",
              "\n",
              "    .dataframe thead th {\n",
              "        text-align: right;\n",
              "    }\n",
              "</style>\n",
              "<table border=\"1\" class=\"dataframe\">\n",
              "  <thead>\n",
              "    <tr style=\"text-align: right;\">\n",
              "      <th></th>\n",
              "      <th>show_id</th>\n",
              "      <th>type</th>\n",
              "      <th>title</th>\n",
              "      <th>director</th>\n",
              "      <th>cast</th>\n",
              "      <th>country</th>\n",
              "      <th>date_added</th>\n",
              "      <th>release_year</th>\n",
              "      <th>rating</th>\n",
              "      <th>duration</th>\n",
              "      <th>listed_in</th>\n",
              "      <th>description</th>\n",
              "    </tr>\n",
              "  </thead>\n",
              "  <tbody>\n",
              "    <tr>\n",
              "      <th>7488</th>\n",
              "      <td>s7489</td>\n",
              "      <td>Movie</td>\n",
              "      <td>Monster Family</td>\n",
              "      <td>Holger Tappe</td>\n",
              "      <td>Celia Imrie, Emily Watson, Catherine Tate, Jas...</td>\n",
              "      <td>Germany, United Kingdom</td>\n",
              "      <td>April 4, 2018</td>\n",
              "      <td>2017</td>\n",
              "      <td>PG</td>\n",
              "      <td>93 min</td>\n",
              "      <td>Children &amp; Family Movies</td>\n",
              "      <td>A family’s festive Halloween plans take a spoo...</td>\n",
              "    </tr>\n",
              "    <tr>\n",
              "      <th>630</th>\n",
              "      <td>s631</td>\n",
              "      <td>Movie</td>\n",
              "      <td>Killing Them Softly</td>\n",
              "      <td>Andrew Dominik</td>\n",
              "      <td>Brad Pitt, Scoot McNairy, Ben Mendelsohn, Rich...</td>\n",
              "      <td>United States</td>\n",
              "      <td>June 28, 2021</td>\n",
              "      <td>2012</td>\n",
              "      <td>R</td>\n",
              "      <td>97 min</td>\n",
              "      <td>Dramas</td>\n",
              "      <td>When a couple of low-level crooks rob a Mob-pr...</td>\n",
              "    </tr>\n",
              "    <tr>\n",
              "      <th>7559</th>\n",
              "      <td>s7560</td>\n",
              "      <td>Movie</td>\n",
              "      <td>Naruto Shippuden : Blood Prison</td>\n",
              "      <td>Masahiko Murata</td>\n",
              "      <td>Junko Takeuchi, Chie Nakamura, Rikiya Koyama, ...</td>\n",
              "      <td>Japan</td>\n",
              "      <td>September 1, 2017</td>\n",
              "      <td>2011</td>\n",
              "      <td>TV-14</td>\n",
              "      <td>102 min</td>\n",
              "      <td>Action &amp; Adventure, Anime Features, Internatio...</td>\n",
              "      <td>Mistakenly accused of an attack on the Fourth ...</td>\n",
              "    </tr>\n",
              "    <tr>\n",
              "      <th>1406</th>\n",
              "      <td>s1407</td>\n",
              "      <td>Movie</td>\n",
              "      <td>Penguins of Madagascar: The Movie</td>\n",
              "      <td>Eric Darnell, Simon J. Smith</td>\n",
              "      <td>Tom McGrath, Christopher Knights, Chris Miller...</td>\n",
              "      <td>United States</td>\n",
              "      <td>January 15, 2021</td>\n",
              "      <td>2014</td>\n",
              "      <td>PG</td>\n",
              "      <td>92 min</td>\n",
              "      <td>Children &amp; Family Movies, Comedies</td>\n",
              "      <td>Elite penguin spies Skipper, Kowalski, Rico an...</td>\n",
              "    </tr>\n",
              "    <tr>\n",
              "      <th>8666</th>\n",
              "      <td>s8667</td>\n",
              "      <td>Movie</td>\n",
              "      <td>Used Goods</td>\n",
              "      <td>Mohamed Hamdy</td>\n",
              "      <td>Mohamed Ragab, Ayten Amer, Hassan Abdulfattah</td>\n",
              "      <td>Egypt</td>\n",
              "      <td>September 1, 2019</td>\n",
              "      <td>2018</td>\n",
              "      <td>TV-14</td>\n",
              "      <td>95 min</td>\n",
              "      <td>Action &amp; Adventure, Comedies, International Mo...</td>\n",
              "      <td>To evade greedy pharmaceutical crooks, a medic...</td>\n",
              "    </tr>\n",
              "    <tr>\n",
              "      <th>4576</th>\n",
              "      <td>s4577</td>\n",
              "      <td>Movie</td>\n",
              "      <td>Khido Khundi</td>\n",
              "      <td>Rohit Jugraj</td>\n",
              "      <td>Ranjit Bawa, Mandy Takhar, Manav Vij, Elnaaz N...</td>\n",
              "      <td>India</td>\n",
              "      <td>October 1, 2018</td>\n",
              "      <td>2018</td>\n",
              "      <td>TV-14</td>\n",
              "      <td>151 min</td>\n",
              "      <td>Dramas, International Movies, Sports Movies</td>\n",
              "      <td>An embittered former hockey star must engage w...</td>\n",
              "    </tr>\n",
              "    <tr>\n",
              "      <th>6773</th>\n",
              "      <td>s6774</td>\n",
              "      <td>TV Show</td>\n",
              "      <td>Food: Delicious Science</td>\n",
              "      <td>NaN</td>\n",
              "      <td>Michael Mosley, James Wong</td>\n",
              "      <td>NaN</td>\n",
              "      <td>October 1, 2017</td>\n",
              "      <td>2017</td>\n",
              "      <td>TV-PG</td>\n",
              "      <td>1 Season</td>\n",
              "      <td>Docuseries, Science &amp; Nature TV</td>\n",
              "      <td>In this series, TV presenter Michael Mosley an...</td>\n",
              "    </tr>\n",
              "    <tr>\n",
              "      <th>2181</th>\n",
              "      <td>s2182</td>\n",
              "      <td>TV Show</td>\n",
              "      <td>Transformers Rescue Bots Academy</td>\n",
              "      <td>NaN</td>\n",
              "      <td>Adam Andrianopolous, Pierce Cravens, Xander Cr...</td>\n",
              "      <td>United States</td>\n",
              "      <td>August 1, 2020</td>\n",
              "      <td>2020</td>\n",
              "      <td>TV-Y</td>\n",
              "      <td>2 Seasons</td>\n",
              "      <td>Kids' TV</td>\n",
              "      <td>As part of the first class at the Rescue Bots ...</td>\n",
              "    </tr>\n",
              "    <tr>\n",
              "      <th>2842</th>\n",
              "      <td>s2843</td>\n",
              "      <td>Movie</td>\n",
              "      <td>Tootsies &amp; The Fake</td>\n",
              "      <td>Kittiphak Thonguam</td>\n",
              "      <td>Araya A. Hargate, Paopetch Charoensook, Thongk...</td>\n",
              "      <td>Thailand</td>\n",
              "      <td>March 5, 2020</td>\n",
              "      <td>2019</td>\n",
              "      <td>TV-MA</td>\n",
              "      <td>108 min</td>\n",
              "      <td>Comedies, International Movies, LGBTQ Movies</td>\n",
              "      <td>After knocking a celebrity unconscious before ...</td>\n",
              "    </tr>\n",
              "    <tr>\n",
              "      <th>6968</th>\n",
              "      <td>s6969</td>\n",
              "      <td>Movie</td>\n",
              "      <td>Highly Strung</td>\n",
              "      <td>Scott Hicks</td>\n",
              "      <td>NaN</td>\n",
              "      <td>Australia</td>\n",
              "      <td>February 1, 2017</td>\n",
              "      <td>2015</td>\n",
              "      <td>TV-14</td>\n",
              "      <td>80 min</td>\n",
              "      <td>Documentaries, International Movies, Music &amp; M...</td>\n",
              "      <td>Fiery passions take center stage in this intim...</td>\n",
              "    </tr>\n",
              "    <tr>\n",
              "      <th>322</th>\n",
              "      <td>s323</td>\n",
              "      <td>TV Show</td>\n",
              "      <td>You're My Destiny</td>\n",
              "      <td>NaN</td>\n",
              "      <td>Joe Chen, Ethan Juan, Baron Chen, Bianca Bai, ...</td>\n",
              "      <td>Taiwan</td>\n",
              "      <td>August 3, 2021</td>\n",
              "      <td>2008</td>\n",
              "      <td>TV-MA</td>\n",
              "      <td>1 Season</td>\n",
              "      <td>International TV Shows, Romantic TV Shows, TV ...</td>\n",
              "      <td>A young woman's romantic cruise ends in a twis...</td>\n",
              "    </tr>\n",
              "    <tr>\n",
              "      <th>3639</th>\n",
              "      <td>s3640</td>\n",
              "      <td>Movie</td>\n",
              "      <td>Girls With Balls</td>\n",
              "      <td>Olivier Afonso</td>\n",
              "      <td>Victor Artus Solaro, Manon Azem, Louise Blachè...</td>\n",
              "      <td>France, Belgium</td>\n",
              "      <td>July 26, 2019</td>\n",
              "      <td>2019</td>\n",
              "      <td>TV-MA</td>\n",
              "      <td>77 min</td>\n",
              "      <td>Comedies, Horror Movies, International Movies</td>\n",
              "      <td>Stranded in the woods and eyeballed by twisted...</td>\n",
              "    </tr>\n",
              "    <tr>\n",
              "      <th>5820</th>\n",
              "      <td>s5821</td>\n",
              "      <td>Movie</td>\n",
              "      <td>Lavell Crawford: Can a Brother Get Some Love?</td>\n",
              "      <td>Michael Drumm</td>\n",
              "      <td>Lavell Crawford</td>\n",
              "      <td>United States</td>\n",
              "      <td>August 2, 2016</td>\n",
              "      <td>2011</td>\n",
              "      <td>TV-MA</td>\n",
              "      <td>81 min</td>\n",
              "      <td>Stand-Up Comedy</td>\n",
              "      <td>\"Last Comic Standing\" runner-up Lavell Crawfor...</td>\n",
              "    </tr>\n",
              "    <tr>\n",
              "      <th>1933</th>\n",
              "      <td>s1934</td>\n",
              "      <td>TV Show</td>\n",
              "      <td>Wentworth</td>\n",
              "      <td>NaN</td>\n",
              "      <td>Danielle Cormack, Nicole da Silva, Kate Atkins...</td>\n",
              "      <td>Australia</td>\n",
              "      <td>September 30, 2020</td>\n",
              "      <td>2020</td>\n",
              "      <td>TV-MA</td>\n",
              "      <td>8 Seasons</td>\n",
              "      <td>Crime TV Shows, TV Dramas</td>\n",
              "      <td>Bea Smith is locked up while awaiting trial fo...</td>\n",
              "    </tr>\n",
              "    <tr>\n",
              "      <th>6940</th>\n",
              "      <td>s6941</td>\n",
              "      <td>Movie</td>\n",
              "      <td>Have You Seen the Listers?</td>\n",
              "      <td>Eddie Martin</td>\n",
              "      <td>Anthony Lister</td>\n",
              "      <td>Australia</td>\n",
              "      <td>February 1, 2019</td>\n",
              "      <td>2017</td>\n",
              "      <td>TV-MA</td>\n",
              "      <td>86 min</td>\n",
              "      <td>Documentaries, International Movies</td>\n",
              "      <td>This documentary paints a candid picture of Au...</td>\n",
              "    </tr>\n",
              "    <tr>\n",
              "      <th>7275</th>\n",
              "      <td>s7276</td>\n",
              "      <td>Movie</td>\n",
              "      <td>LeapFrog: Letter Factory</td>\n",
              "      <td>Roy Allen Smith</td>\n",
              "      <td>Joey Camen, Marie Danielle, Mark Cacciatore, D...</td>\n",
              "      <td>United States</td>\n",
              "      <td>April 15, 2020</td>\n",
              "      <td>2003</td>\n",
              "      <td>TV-Y</td>\n",
              "      <td>37 min</td>\n",
              "      <td>Children &amp; Family Movies</td>\n",
              "      <td>In this entertaining installment of the wildly...</td>\n",
              "    </tr>\n",
              "    <tr>\n",
              "      <th>3608</th>\n",
              "      <td>s3609</td>\n",
              "      <td>TV Show</td>\n",
              "      <td>Jane The Virgin</td>\n",
              "      <td>NaN</td>\n",
              "      <td>Gina Rodriguez, Andrea Navedo, Yael Grobglas, ...</td>\n",
              "      <td>United States</td>\n",
              "      <td>August 8, 2019</td>\n",
              "      <td>2019</td>\n",
              "      <td>TV-14</td>\n",
              "      <td>5 Seasons</td>\n",
              "      <td>Romantic TV Shows, TV Comedies, TV Dramas</td>\n",
              "      <td>After vowing to remain chaste until marriage, ...</td>\n",
              "    </tr>\n",
              "    <tr>\n",
              "      <th>3076</th>\n",
              "      <td>s3077</td>\n",
              "      <td>TV Show</td>\n",
              "      <td>The Bride of Habaek</td>\n",
              "      <td>NaN</td>\n",
              "      <td>Shin Sae-kyeong, Nam Joo-hyuk, Lim Ju-hwan, Kr...</td>\n",
              "      <td>South Korea</td>\n",
              "      <td>January 1, 2020</td>\n",
              "      <td>2017</td>\n",
              "      <td>TV-14</td>\n",
              "      <td>1 Season</td>\n",
              "      <td>International TV Shows, Korean TV Shows, Roman...</td>\n",
              "      <td>When a quest for divine stones in the human wo...</td>\n",
              "    </tr>\n",
              "    <tr>\n",
              "      <th>5697</th>\n",
              "      <td>s5698</td>\n",
              "      <td>Movie</td>\n",
              "      <td>Across Grace Alley</td>\n",
              "      <td>Ralph Macchio</td>\n",
              "      <td>Ben Hyland, Marsha Mason, Karina Smirnoff, Col...</td>\n",
              "      <td>United States</td>\n",
              "      <td>December 1, 2016</td>\n",
              "      <td>2013</td>\n",
              "      <td>TV-PG</td>\n",
              "      <td>24 min</td>\n",
              "      <td>Dramas</td>\n",
              "      <td>A young boy, upset by his parents' divorce, be...</td>\n",
              "    </tr>\n",
              "    <tr>\n",
              "      <th>1659</th>\n",
              "      <td>s1660</td>\n",
              "      <td>Movie</td>\n",
              "      <td>Hard Kill</td>\n",
              "      <td>Matt Eskandari</td>\n",
              "      <td>Jesse Metcalfe, Bruce Willis, Natalie Eva Mari...</td>\n",
              "      <td>United States</td>\n",
              "      <td>November 23, 2020</td>\n",
              "      <td>2020</td>\n",
              "      <td>R</td>\n",
              "      <td>98 min</td>\n",
              "      <td>Action &amp; Adventure</td>\n",
              "      <td>When a billionaire hires a team of mercenaries...</td>\n",
              "    </tr>\n",
              "  </tbody>\n",
              "</table>\n",
              "</div>\n",
              "      <button class=\"colab-df-convert\" onclick=\"convertToInteractive('df-ebbb6c4c-a611-4610-90a5-b787eb1a7c47')\"\n",
              "              title=\"Convert this dataframe to an interactive table.\"\n",
              "              style=\"display:none;\">\n",
              "        \n",
              "  <svg xmlns=\"http://www.w3.org/2000/svg\" height=\"24px\"viewBox=\"0 0 24 24\"\n",
              "       width=\"24px\">\n",
              "    <path d=\"M0 0h24v24H0V0z\" fill=\"none\"/>\n",
              "    <path d=\"M18.56 5.44l.94 2.06.94-2.06 2.06-.94-2.06-.94-.94-2.06-.94 2.06-2.06.94zm-11 1L8.5 8.5l.94-2.06 2.06-.94-2.06-.94L8.5 2.5l-.94 2.06-2.06.94zm10 10l.94 2.06.94-2.06 2.06-.94-2.06-.94-.94-2.06-.94 2.06-2.06.94z\"/><path d=\"M17.41 7.96l-1.37-1.37c-.4-.4-.92-.59-1.43-.59-.52 0-1.04.2-1.43.59L10.3 9.45l-7.72 7.72c-.78.78-.78 2.05 0 2.83L4 21.41c.39.39.9.59 1.41.59.51 0 1.02-.2 1.41-.59l7.78-7.78 2.81-2.81c.8-.78.8-2.07 0-2.86zM5.41 20L4 18.59l7.72-7.72 1.47 1.35L5.41 20z\"/>\n",
              "  </svg>\n",
              "      </button>\n",
              "      \n",
              "  <style>\n",
              "    .colab-df-container {\n",
              "      display:flex;\n",
              "      flex-wrap:wrap;\n",
              "      gap: 12px;\n",
              "    }\n",
              "\n",
              "    .colab-df-convert {\n",
              "      background-color: #E8F0FE;\n",
              "      border: none;\n",
              "      border-radius: 50%;\n",
              "      cursor: pointer;\n",
              "      display: none;\n",
              "      fill: #1967D2;\n",
              "      height: 32px;\n",
              "      padding: 0 0 0 0;\n",
              "      width: 32px;\n",
              "    }\n",
              "\n",
              "    .colab-df-convert:hover {\n",
              "      background-color: #E2EBFA;\n",
              "      box-shadow: 0px 1px 2px rgba(60, 64, 67, 0.3), 0px 1px 3px 1px rgba(60, 64, 67, 0.15);\n",
              "      fill: #174EA6;\n",
              "    }\n",
              "\n",
              "    [theme=dark] .colab-df-convert {\n",
              "      background-color: #3B4455;\n",
              "      fill: #D2E3FC;\n",
              "    }\n",
              "\n",
              "    [theme=dark] .colab-df-convert:hover {\n",
              "      background-color: #434B5C;\n",
              "      box-shadow: 0px 1px 3px 1px rgba(0, 0, 0, 0.15);\n",
              "      filter: drop-shadow(0px 1px 2px rgba(0, 0, 0, 0.3));\n",
              "      fill: #FFFFFF;\n",
              "    }\n",
              "  </style>\n",
              "\n",
              "      <script>\n",
              "        const buttonEl =\n",
              "          document.querySelector('#df-ebbb6c4c-a611-4610-90a5-b787eb1a7c47 button.colab-df-convert');\n",
              "        buttonEl.style.display =\n",
              "          google.colab.kernel.accessAllowed ? 'block' : 'none';\n",
              "\n",
              "        async function convertToInteractive(key) {\n",
              "          const element = document.querySelector('#df-ebbb6c4c-a611-4610-90a5-b787eb1a7c47');\n",
              "          const dataTable =\n",
              "            await google.colab.kernel.invokeFunction('convertToInteractive',\n",
              "                                                     [key], {});\n",
              "          if (!dataTable) return;\n",
              "\n",
              "          const docLinkHtml = 'Like what you see? Visit the ' +\n",
              "            '<a target=\"_blank\" href=https://colab.research.google.com/notebooks/data_table.ipynb>data table notebook</a>'\n",
              "            + ' to learn more about interactive tables.';\n",
              "          element.innerHTML = '';\n",
              "          dataTable['output_type'] = 'display_data';\n",
              "          await google.colab.output.renderOutput(dataTable, element);\n",
              "          const docLink = document.createElement('div');\n",
              "          docLink.innerHTML = docLinkHtml;\n",
              "          element.appendChild(docLink);\n",
              "        }\n",
              "      </script>\n",
              "    </div>\n",
              "  </div>\n",
              "  "
            ]
          },
          "metadata": {},
          "execution_count": 46
        }
      ],
      "source": [
        "df.sample(20)"
      ]
    },
    {
      "cell_type": "code",
      "execution_count": null,
      "metadata": {
        "colab": {
          "base_uri": "https://localhost:8080/"
        },
        "id": "rfNxqU6-TVOL",
        "outputId": "e009b9ae-d613-4f34-8647-e95e20cf8d02"
      },
      "outputs": [
        {
          "output_type": "execute_result",
          "data": {
            "text/plain": [
              "(8807, 12)"
            ]
          },
          "metadata": {},
          "execution_count": 47
        }
      ],
      "source": [
        "df.shape"
      ]
    },
    {
      "cell_type": "code",
      "source": [
        "df.nunique()"
      ],
      "metadata": {
        "id": "2rgQolIgeHpg",
        "colab": {
          "base_uri": "https://localhost:8080/"
        },
        "outputId": "848d2d8d-cb68-429b-eb7b-17b6b8b47d6d"
      },
      "execution_count": null,
      "outputs": [
        {
          "output_type": "execute_result",
          "data": {
            "text/plain": [
              "show_id         8807\n",
              "type               2\n",
              "title           8807\n",
              "director        4528\n",
              "cast            7692\n",
              "country          748\n",
              "date_added      1767\n",
              "release_year      74\n",
              "rating            17\n",
              "duration         220\n",
              "listed_in        514\n",
              "description     8775\n",
              "dtype: int64"
            ]
          },
          "metadata": {},
          "execution_count": 9
        }
      ]
    },
    {
      "cell_type": "code",
      "execution_count": null,
      "metadata": {
        "colab": {
          "base_uri": "https://localhost:8080/"
        },
        "id": "9J1-vPOfTVON",
        "outputId": "a934ca46-7bb9-4d0c-94b3-061673ed879e"
      },
      "outputs": [
        {
          "output_type": "execute_result",
          "data": {
            "text/plain": [
              "show_id            0\n",
              "type               0\n",
              "title              0\n",
              "director        2634\n",
              "cast             825\n",
              "country          831\n",
              "date_added        10\n",
              "release_year       0\n",
              "rating             4\n",
              "duration           3\n",
              "listed_in          0\n",
              "description        0\n",
              "dtype: int64"
            ]
          },
          "metadata": {},
          "execution_count": 10
        }
      ],
      "source": [
        "# Checking Null values\n",
        "df.isnull().sum()"
      ]
    },
    {
      "cell_type": "code",
      "execution_count": null,
      "metadata": {
        "colab": {
          "base_uri": "https://localhost:8080/"
        },
        "id": "w9zQsw81TVOO",
        "outputId": "de4f04d6-a7c7-41e4-940f-bd02a89998b5"
      },
      "outputs": [
        {
          "output_type": "stream",
          "name": "stdout",
          "text": [
            "show_id --> 0 %\n",
            "type --> 0 %\n",
            "title --> 0 %\n",
            "director --> 0 %\n",
            "cast --> 9 %\n",
            "country --> 0 %\n",
            "date_added --> 0 %\n",
            "release_year --> 0 %\n",
            "rating --> 0 %\n",
            "duration --> 0 %\n",
            "listed_in --> 0 %\n",
            "description --> 0 %\n",
            "Country --> 0 %\n"
          ]
        }
      ],
      "source": [
        "#Return percentage of missing values in each column  \n",
        "for col in df.columns:\n",
        "    percent_null=np.mean((df[col]).isnull())\n",
        "    print('{} --> {} %'.format(col,round(percent_null*100)))"
      ]
    },
    {
      "cell_type": "code",
      "execution_count": null,
      "metadata": {
        "id": "gbBaprUYTVOQ"
      },
      "outputs": [],
      "source": [
        "df.drop(['description','cast','show_id'], axis=1 ,inplace=True)"
      ]
    },
    {
      "cell_type": "code",
      "execution_count": null,
      "metadata": {
        "id": "aNL_Pg5zal7F"
      },
      "outputs": [],
      "source": [
        "df.dropna(subset=['date_added','rating','duration'],inplace=True)"
      ]
    },
    {
      "cell_type": "code",
      "execution_count": null,
      "metadata": {
        "id": "MVriu6TKj4cR"
      },
      "outputs": [],
      "source": [
        "df['director'].fillna('Unknown', inplace=True)"
      ]
    },
    {
      "cell_type": "code",
      "source": [
        "df['country'].sample(19)"
      ],
      "metadata": {
        "colab": {
          "base_uri": "https://localhost:8080/"
        },
        "id": "IV5yr7Fyj_dR",
        "outputId": "6d85e493-f04b-4fd3-a6fc-d4fd705f74bc"
      },
      "execution_count": null,
      "outputs": [
        {
          "output_type": "execute_result",
          "data": {
            "text/plain": [
              "4541                                     other\n",
              "2727                             United States\n",
              "1861                                     India\n",
              "1186                                     Japan\n",
              "5582                             United States\n",
              "892                                      India\n",
              "709                                  Argentina\n",
              "6349    Denmark, Sweden, Israel, United States\n",
              "6163                             United States\n",
              "2294                             United States\n",
              "2656     Canada, United States, United Kingdom\n",
              "4368                             United States\n",
              "7358                                 Argentina\n",
              "8195                     Canada, United States\n",
              "8757                             United States\n",
              "3393                                     other\n",
              "8016                                     India\n",
              "8010       United States, United Arab Emirates\n",
              "6555                             United States\n",
              "Name: country, dtype: object"
            ]
          },
          "metadata": {},
          "execution_count": 63
        }
      ]
    },
    {
      "cell_type": "code",
      "execution_count": null,
      "metadata": {
        "id": "lzuOAf8oTVOV"
      },
      "outputs": [],
      "source": [
        "df['country'].fillna('other', inplace=True)\n",
        "df['Country'] = df['country'].apply(lambda x: x.split(\",\")[0])"
      ]
    },
    {
      "cell_type": "code",
      "source": [
        "df['country'].sample(7)"
      ],
      "metadata": {
        "colab": {
          "base_uri": "https://localhost:8080/"
        },
        "id": "9ctuQnXBjvA_",
        "outputId": "902ff71f-ff01-40e7-d0a1-6fa71fddf97b"
      },
      "execution_count": null,
      "outputs": [
        {
          "output_type": "execute_result",
          "data": {
            "text/plain": [
              "4082                    Spain\n",
              "264             United States\n",
              "5615            United States\n",
              "4979            United States\n",
              "6953    United States, Canada\n",
              "7025           United Kingdom\n",
              "1486            United States\n",
              "Name: country, dtype: object"
            ]
          },
          "metadata": {},
          "execution_count": 65
        }
      ]
    },
    {
      "cell_type": "code",
      "source": [
        "df.shape"
      ],
      "metadata": {
        "colab": {
          "base_uri": "https://localhost:8080/"
        },
        "id": "Ep7hfxglkmj2",
        "outputId": "54389582-2d43-4a58-c519-1c2eb3c092ba"
      },
      "execution_count": null,
      "outputs": [
        {
          "output_type": "execute_result",
          "data": {
            "text/plain": [
              "(8790, 10)"
            ]
          },
          "metadata": {},
          "execution_count": 66
        }
      ]
    },
    {
      "cell_type": "code",
      "execution_count": null,
      "metadata": {
        "colab": {
          "base_uri": "https://localhost:8080/"
        },
        "id": "KeRlGSU4TVOV",
        "outputId": "4a66ddb6-3e8b-4847-ff67-968f27efd849"
      },
      "outputs": [
        {
          "output_type": "execute_result",
          "data": {
            "text/plain": [
              "type            0\n",
              "title           0\n",
              "director        0\n",
              "country         0\n",
              "date_added      0\n",
              "release_year    0\n",
              "rating          0\n",
              "duration        0\n",
              "listed_in       0\n",
              "Country         0\n",
              "dtype: int64"
            ]
          },
          "metadata": {},
          "execution_count": 67
        }
      ],
      "source": [
        "df.isnull().sum()"
      ]
    },
    {
      "cell_type": "code",
      "execution_count": null,
      "metadata": {
        "id": "vItpKTZWTVOZ"
      },
      "outputs": [],
      "source": [
        "df['date_added']=pd.to_datetime(df['date_added'])\n",
        "df['year_added'] = df['date_added'].dt.year\n",
        "df['month_added'] = df['date_added'].dt.month\n",
        "df['day_added']=df['date_added'].dt.day"
      ]
    },
    {
      "cell_type": "code",
      "execution_count": null,
      "metadata": {
        "colab": {
          "base_uri": "https://localhost:8080/",
          "height": 207
        },
        "id": "fS4rZDFVhhSe",
        "outputId": "c637e867-f018-4553-93b7-3263036ea3be"
      },
      "outputs": [
        {
          "output_type": "execute_result",
          "data": {
            "text/plain": [
              "      type                  title         director        country date_added  \\\n",
              "0    Movie   Dick Johnson Is Dead  Kirsten Johnson  United States 2021-09-25   \n",
              "1  TV Show          Blood & Water          Unknown   South Africa 2021-09-24   \n",
              "2  TV Show              Ganglands  Julien Leclercq          other 2021-09-24   \n",
              "3  TV Show  Jailbirds New Orleans          Unknown          other 2021-09-24   \n",
              "4  TV Show           Kota Factory          Unknown          India 2021-09-24   \n",
              "\n",
              "   release_year rating   duration  \\\n",
              "0          2020  PG-13     90 min   \n",
              "1          2021  TV-MA  2 Seasons   \n",
              "2          2021  TV-MA   1 Season   \n",
              "3          2021  TV-MA   1 Season   \n",
              "4          2021  TV-MA  2 Seasons   \n",
              "\n",
              "                                           listed_in        Country  \\\n",
              "0                                      Documentaries  United States   \n",
              "1    International TV Shows, TV Dramas, TV Mysteries   South Africa   \n",
              "2  Crime TV Shows, International TV Shows, TV Act...          other   \n",
              "3                             Docuseries, Reality TV          other   \n",
              "4  International TV Shows, Romantic TV Shows, TV ...          India   \n",
              "\n",
              "   year_added  month_added  day_added target_ages  \n",
              "0        2021            9         25       Teens  \n",
              "1        2021            9         24      Adults  \n",
              "2        2021            9         24      Adults  \n",
              "3        2021            9         24      Adults  \n",
              "4        2021            9         24      Adults  "
            ],
            "text/html": [
              "\n",
              "  <div id=\"df-81c95194-a29f-4d0e-b78e-ac325ef2f20b\">\n",
              "    <div class=\"colab-df-container\">\n",
              "      <div>\n",
              "<style scoped>\n",
              "    .dataframe tbody tr th:only-of-type {\n",
              "        vertical-align: middle;\n",
              "    }\n",
              "\n",
              "    .dataframe tbody tr th {\n",
              "        vertical-align: top;\n",
              "    }\n",
              "\n",
              "    .dataframe thead th {\n",
              "        text-align: right;\n",
              "    }\n",
              "</style>\n",
              "<table border=\"1\" class=\"dataframe\">\n",
              "  <thead>\n",
              "    <tr style=\"text-align: right;\">\n",
              "      <th></th>\n",
              "      <th>type</th>\n",
              "      <th>title</th>\n",
              "      <th>director</th>\n",
              "      <th>country</th>\n",
              "      <th>date_added</th>\n",
              "      <th>release_year</th>\n",
              "      <th>rating</th>\n",
              "      <th>duration</th>\n",
              "      <th>listed_in</th>\n",
              "      <th>Country</th>\n",
              "      <th>year_added</th>\n",
              "      <th>month_added</th>\n",
              "      <th>day_added</th>\n",
              "      <th>target_ages</th>\n",
              "    </tr>\n",
              "  </thead>\n",
              "  <tbody>\n",
              "    <tr>\n",
              "      <th>0</th>\n",
              "      <td>Movie</td>\n",
              "      <td>Dick Johnson Is Dead</td>\n",
              "      <td>Kirsten Johnson</td>\n",
              "      <td>United States</td>\n",
              "      <td>2021-09-25</td>\n",
              "      <td>2020</td>\n",
              "      <td>PG-13</td>\n",
              "      <td>90 min</td>\n",
              "      <td>Documentaries</td>\n",
              "      <td>United States</td>\n",
              "      <td>2021</td>\n",
              "      <td>9</td>\n",
              "      <td>25</td>\n",
              "      <td>Teens</td>\n",
              "    </tr>\n",
              "    <tr>\n",
              "      <th>1</th>\n",
              "      <td>TV Show</td>\n",
              "      <td>Blood &amp; Water</td>\n",
              "      <td>Unknown</td>\n",
              "      <td>South Africa</td>\n",
              "      <td>2021-09-24</td>\n",
              "      <td>2021</td>\n",
              "      <td>TV-MA</td>\n",
              "      <td>2 Seasons</td>\n",
              "      <td>International TV Shows, TV Dramas, TV Mysteries</td>\n",
              "      <td>South Africa</td>\n",
              "      <td>2021</td>\n",
              "      <td>9</td>\n",
              "      <td>24</td>\n",
              "      <td>Adults</td>\n",
              "    </tr>\n",
              "    <tr>\n",
              "      <th>2</th>\n",
              "      <td>TV Show</td>\n",
              "      <td>Ganglands</td>\n",
              "      <td>Julien Leclercq</td>\n",
              "      <td>other</td>\n",
              "      <td>2021-09-24</td>\n",
              "      <td>2021</td>\n",
              "      <td>TV-MA</td>\n",
              "      <td>1 Season</td>\n",
              "      <td>Crime TV Shows, International TV Shows, TV Act...</td>\n",
              "      <td>other</td>\n",
              "      <td>2021</td>\n",
              "      <td>9</td>\n",
              "      <td>24</td>\n",
              "      <td>Adults</td>\n",
              "    </tr>\n",
              "    <tr>\n",
              "      <th>3</th>\n",
              "      <td>TV Show</td>\n",
              "      <td>Jailbirds New Orleans</td>\n",
              "      <td>Unknown</td>\n",
              "      <td>other</td>\n",
              "      <td>2021-09-24</td>\n",
              "      <td>2021</td>\n",
              "      <td>TV-MA</td>\n",
              "      <td>1 Season</td>\n",
              "      <td>Docuseries, Reality TV</td>\n",
              "      <td>other</td>\n",
              "      <td>2021</td>\n",
              "      <td>9</td>\n",
              "      <td>24</td>\n",
              "      <td>Adults</td>\n",
              "    </tr>\n",
              "    <tr>\n",
              "      <th>4</th>\n",
              "      <td>TV Show</td>\n",
              "      <td>Kota Factory</td>\n",
              "      <td>Unknown</td>\n",
              "      <td>India</td>\n",
              "      <td>2021-09-24</td>\n",
              "      <td>2021</td>\n",
              "      <td>TV-MA</td>\n",
              "      <td>2 Seasons</td>\n",
              "      <td>International TV Shows, Romantic TV Shows, TV ...</td>\n",
              "      <td>India</td>\n",
              "      <td>2021</td>\n",
              "      <td>9</td>\n",
              "      <td>24</td>\n",
              "      <td>Adults</td>\n",
              "    </tr>\n",
              "  </tbody>\n",
              "</table>\n",
              "</div>\n",
              "      <button class=\"colab-df-convert\" onclick=\"convertToInteractive('df-81c95194-a29f-4d0e-b78e-ac325ef2f20b')\"\n",
              "              title=\"Convert this dataframe to an interactive table.\"\n",
              "              style=\"display:none;\">\n",
              "        \n",
              "  <svg xmlns=\"http://www.w3.org/2000/svg\" height=\"24px\"viewBox=\"0 0 24 24\"\n",
              "       width=\"24px\">\n",
              "    <path d=\"M0 0h24v24H0V0z\" fill=\"none\"/>\n",
              "    <path d=\"M18.56 5.44l.94 2.06.94-2.06 2.06-.94-2.06-.94-.94-2.06-.94 2.06-2.06.94zm-11 1L8.5 8.5l.94-2.06 2.06-.94-2.06-.94L8.5 2.5l-.94 2.06-2.06.94zm10 10l.94 2.06.94-2.06 2.06-.94-2.06-.94-.94-2.06-.94 2.06-2.06.94z\"/><path d=\"M17.41 7.96l-1.37-1.37c-.4-.4-.92-.59-1.43-.59-.52 0-1.04.2-1.43.59L10.3 9.45l-7.72 7.72c-.78.78-.78 2.05 0 2.83L4 21.41c.39.39.9.59 1.41.59.51 0 1.02-.2 1.41-.59l7.78-7.78 2.81-2.81c.8-.78.8-2.07 0-2.86zM5.41 20L4 18.59l7.72-7.72 1.47 1.35L5.41 20z\"/>\n",
              "  </svg>\n",
              "      </button>\n",
              "      \n",
              "  <style>\n",
              "    .colab-df-container {\n",
              "      display:flex;\n",
              "      flex-wrap:wrap;\n",
              "      gap: 12px;\n",
              "    }\n",
              "\n",
              "    .colab-df-convert {\n",
              "      background-color: #E8F0FE;\n",
              "      border: none;\n",
              "      border-radius: 50%;\n",
              "      cursor: pointer;\n",
              "      display: none;\n",
              "      fill: #1967D2;\n",
              "      height: 32px;\n",
              "      padding: 0 0 0 0;\n",
              "      width: 32px;\n",
              "    }\n",
              "\n",
              "    .colab-df-convert:hover {\n",
              "      background-color: #E2EBFA;\n",
              "      box-shadow: 0px 1px 2px rgba(60, 64, 67, 0.3), 0px 1px 3px 1px rgba(60, 64, 67, 0.15);\n",
              "      fill: #174EA6;\n",
              "    }\n",
              "\n",
              "    [theme=dark] .colab-df-convert {\n",
              "      background-color: #3B4455;\n",
              "      fill: #D2E3FC;\n",
              "    }\n",
              "\n",
              "    [theme=dark] .colab-df-convert:hover {\n",
              "      background-color: #434B5C;\n",
              "      box-shadow: 0px 1px 3px 1px rgba(0, 0, 0, 0.15);\n",
              "      filter: drop-shadow(0px 1px 2px rgba(0, 0, 0, 0.3));\n",
              "      fill: #FFFFFF;\n",
              "    }\n",
              "  </style>\n",
              "\n",
              "      <script>\n",
              "        const buttonEl =\n",
              "          document.querySelector('#df-81c95194-a29f-4d0e-b78e-ac325ef2f20b button.colab-df-convert');\n",
              "        buttonEl.style.display =\n",
              "          google.colab.kernel.accessAllowed ? 'block' : 'none';\n",
              "\n",
              "        async function convertToInteractive(key) {\n",
              "          const element = document.querySelector('#df-81c95194-a29f-4d0e-b78e-ac325ef2f20b');\n",
              "          const dataTable =\n",
              "            await google.colab.kernel.invokeFunction('convertToInteractive',\n",
              "                                                     [key], {});\n",
              "          if (!dataTable) return;\n",
              "\n",
              "          const docLinkHtml = 'Like what you see? Visit the ' +\n",
              "            '<a target=\"_blank\" href=https://colab.research.google.com/notebooks/data_table.ipynb>data table notebook</a>'\n",
              "            + ' to learn more about interactive tables.';\n",
              "          element.innerHTML = '';\n",
              "          dataTable['output_type'] = 'display_data';\n",
              "          await google.colab.output.renderOutput(dataTable, element);\n",
              "          const docLink = document.createElement('div');\n",
              "          docLink.innerHTML = docLinkHtml;\n",
              "          element.appendChild(docLink);\n",
              "        }\n",
              "      </script>\n",
              "    </div>\n",
              "  </div>\n",
              "  "
            ]
          },
          "metadata": {},
          "execution_count": 72
        }
      ],
      "source": [
        "ratings_ages = {\n",
        "    'TV-PG': 'Older Kids',\n",
        "    'TV-MA': 'Adults',\n",
        "    'TV-Y7-FV': 'Older Kids',\n",
        "    'TV-Y7': 'Older Kids',\n",
        "    'TV-14': 'Teens',\n",
        "    'R': 'Adults',\n",
        "    'TV-Y': 'Kids',\n",
        "    'NR': 'Adults',\n",
        "    'PG-13': 'Teens',\n",
        "    'TV-G': 'Kids',\n",
        "    'PG': 'Older Kids',\n",
        "    'G': 'Kids',\n",
        "    'UR': 'Adults',\n",
        "    'NC-17': 'Adults'\n",
        "}\n",
        "df['target_ages'] = df['rating'].replace(ratings_ages)\n",
        "df.head()"
      ]
    },
    {
      "cell_type": "code",
      "execution_count": null,
      "metadata": {
        "colab": {
          "base_uri": "https://localhost:8080/",
          "height": 424
        },
        "id": "ThLoFZbuhkLE",
        "outputId": "842bce2d-773d-45e4-8945-fd275d6fb616"
      },
      "outputs": [
        {
          "output_type": "execute_result",
          "data": {
            "text/plain": [
              "         type                  title         director        country  \\\n",
              "0       Movie   Dick Johnson Is Dead  Kirsten Johnson  United States   \n",
              "1     TV Show          Blood & Water          Unknown   South Africa   \n",
              "2     TV Show              Ganglands  Julien Leclercq          other   \n",
              "3     TV Show  Jailbirds New Orleans          Unknown          other   \n",
              "4     TV Show           Kota Factory          Unknown          India   \n",
              "...       ...                    ...              ...            ...   \n",
              "8802    Movie                 Zodiac    David Fincher  United States   \n",
              "8803  TV Show            Zombie Dumb          Unknown          other   \n",
              "8804    Movie             Zombieland  Ruben Fleischer  United States   \n",
              "8805    Movie                   Zoom     Peter Hewitt  United States   \n",
              "8806    Movie                 Zubaan      Mozez Singh          India   \n",
              "\n",
              "     date_added  release_year rating duration  \\\n",
              "0    2021-09-25          2020  PG-13       90   \n",
              "1    2021-09-24          2021  TV-MA            \n",
              "2    2021-09-24          2021  TV-MA            \n",
              "3    2021-09-24          2021  TV-MA            \n",
              "4    2021-09-24          2021  TV-MA            \n",
              "...         ...           ...    ...      ...   \n",
              "8802 2019-11-20          2007      R      158   \n",
              "8803 2019-07-01          2018  TV-Y7            \n",
              "8804 2019-11-01          2009      R       88   \n",
              "8805 2020-01-11          2006     PG       88   \n",
              "8806 2019-03-02          2015  TV-14      111   \n",
              "\n",
              "                                              listed_in        Country  \\\n",
              "0                                         Documentaries  United States   \n",
              "1       International TV Shows, TV Dramas, TV Mysteries   South Africa   \n",
              "2     Crime TV Shows, International TV Shows, TV Act...          other   \n",
              "3                                Docuseries, Reality TV          other   \n",
              "4     International TV Shows, Romantic TV Shows, TV ...          India   \n",
              "...                                                 ...            ...   \n",
              "8802                     Cult Movies, Dramas, Thrillers  United States   \n",
              "8803             Kids' TV, Korean TV Shows, TV Comedies          other   \n",
              "8804                            Comedies, Horror Movies  United States   \n",
              "8805                 Children & Family Movies, Comedies  United States   \n",
              "8806     Dramas, International Movies, Music & Musicals          India   \n",
              "\n",
              "      year_added  month_added  day_added target_ages season_count  \n",
              "0           2021            9         25       Teens               \n",
              "1           2021            9         24      Adults            2  \n",
              "2           2021            9         24      Adults            1  \n",
              "3           2021            9         24      Adults            1  \n",
              "4           2021            9         24      Adults            2  \n",
              "...          ...          ...        ...         ...          ...  \n",
              "8802        2019           11         20      Adults               \n",
              "8803        2019            7          1  Older Kids            2  \n",
              "8804        2019           11          1      Adults               \n",
              "8805        2020            1         11  Older Kids               \n",
              "8806        2019            3          2       Teens               \n",
              "\n",
              "[8790 rows x 15 columns]"
            ],
            "text/html": [
              "\n",
              "  <div id=\"df-e15f9081-a406-44a9-bd12-531dd165d5e1\">\n",
              "    <div class=\"colab-df-container\">\n",
              "      <div>\n",
              "<style scoped>\n",
              "    .dataframe tbody tr th:only-of-type {\n",
              "        vertical-align: middle;\n",
              "    }\n",
              "\n",
              "    .dataframe tbody tr th {\n",
              "        vertical-align: top;\n",
              "    }\n",
              "\n",
              "    .dataframe thead th {\n",
              "        text-align: right;\n",
              "    }\n",
              "</style>\n",
              "<table border=\"1\" class=\"dataframe\">\n",
              "  <thead>\n",
              "    <tr style=\"text-align: right;\">\n",
              "      <th></th>\n",
              "      <th>type</th>\n",
              "      <th>title</th>\n",
              "      <th>director</th>\n",
              "      <th>country</th>\n",
              "      <th>date_added</th>\n",
              "      <th>release_year</th>\n",
              "      <th>rating</th>\n",
              "      <th>duration</th>\n",
              "      <th>listed_in</th>\n",
              "      <th>Country</th>\n",
              "      <th>year_added</th>\n",
              "      <th>month_added</th>\n",
              "      <th>day_added</th>\n",
              "      <th>target_ages</th>\n",
              "      <th>season_count</th>\n",
              "    </tr>\n",
              "  </thead>\n",
              "  <tbody>\n",
              "    <tr>\n",
              "      <th>0</th>\n",
              "      <td>Movie</td>\n",
              "      <td>Dick Johnson Is Dead</td>\n",
              "      <td>Kirsten Johnson</td>\n",
              "      <td>United States</td>\n",
              "      <td>2021-09-25</td>\n",
              "      <td>2020</td>\n",
              "      <td>PG-13</td>\n",
              "      <td>90</td>\n",
              "      <td>Documentaries</td>\n",
              "      <td>United States</td>\n",
              "      <td>2021</td>\n",
              "      <td>9</td>\n",
              "      <td>25</td>\n",
              "      <td>Teens</td>\n",
              "      <td></td>\n",
              "    </tr>\n",
              "    <tr>\n",
              "      <th>1</th>\n",
              "      <td>TV Show</td>\n",
              "      <td>Blood &amp; Water</td>\n",
              "      <td>Unknown</td>\n",
              "      <td>South Africa</td>\n",
              "      <td>2021-09-24</td>\n",
              "      <td>2021</td>\n",
              "      <td>TV-MA</td>\n",
              "      <td></td>\n",
              "      <td>International TV Shows, TV Dramas, TV Mysteries</td>\n",
              "      <td>South Africa</td>\n",
              "      <td>2021</td>\n",
              "      <td>9</td>\n",
              "      <td>24</td>\n",
              "      <td>Adults</td>\n",
              "      <td>2</td>\n",
              "    </tr>\n",
              "    <tr>\n",
              "      <th>2</th>\n",
              "      <td>TV Show</td>\n",
              "      <td>Ganglands</td>\n",
              "      <td>Julien Leclercq</td>\n",
              "      <td>other</td>\n",
              "      <td>2021-09-24</td>\n",
              "      <td>2021</td>\n",
              "      <td>TV-MA</td>\n",
              "      <td></td>\n",
              "      <td>Crime TV Shows, International TV Shows, TV Act...</td>\n",
              "      <td>other</td>\n",
              "      <td>2021</td>\n",
              "      <td>9</td>\n",
              "      <td>24</td>\n",
              "      <td>Adults</td>\n",
              "      <td>1</td>\n",
              "    </tr>\n",
              "    <tr>\n",
              "      <th>3</th>\n",
              "      <td>TV Show</td>\n",
              "      <td>Jailbirds New Orleans</td>\n",
              "      <td>Unknown</td>\n",
              "      <td>other</td>\n",
              "      <td>2021-09-24</td>\n",
              "      <td>2021</td>\n",
              "      <td>TV-MA</td>\n",
              "      <td></td>\n",
              "      <td>Docuseries, Reality TV</td>\n",
              "      <td>other</td>\n",
              "      <td>2021</td>\n",
              "      <td>9</td>\n",
              "      <td>24</td>\n",
              "      <td>Adults</td>\n",
              "      <td>1</td>\n",
              "    </tr>\n",
              "    <tr>\n",
              "      <th>4</th>\n",
              "      <td>TV Show</td>\n",
              "      <td>Kota Factory</td>\n",
              "      <td>Unknown</td>\n",
              "      <td>India</td>\n",
              "      <td>2021-09-24</td>\n",
              "      <td>2021</td>\n",
              "      <td>TV-MA</td>\n",
              "      <td></td>\n",
              "      <td>International TV Shows, Romantic TV Shows, TV ...</td>\n",
              "      <td>India</td>\n",
              "      <td>2021</td>\n",
              "      <td>9</td>\n",
              "      <td>24</td>\n",
              "      <td>Adults</td>\n",
              "      <td>2</td>\n",
              "    </tr>\n",
              "    <tr>\n",
              "      <th>...</th>\n",
              "      <td>...</td>\n",
              "      <td>...</td>\n",
              "      <td>...</td>\n",
              "      <td>...</td>\n",
              "      <td>...</td>\n",
              "      <td>...</td>\n",
              "      <td>...</td>\n",
              "      <td>...</td>\n",
              "      <td>...</td>\n",
              "      <td>...</td>\n",
              "      <td>...</td>\n",
              "      <td>...</td>\n",
              "      <td>...</td>\n",
              "      <td>...</td>\n",
              "      <td>...</td>\n",
              "    </tr>\n",
              "    <tr>\n",
              "      <th>8802</th>\n",
              "      <td>Movie</td>\n",
              "      <td>Zodiac</td>\n",
              "      <td>David Fincher</td>\n",
              "      <td>United States</td>\n",
              "      <td>2019-11-20</td>\n",
              "      <td>2007</td>\n",
              "      <td>R</td>\n",
              "      <td>158</td>\n",
              "      <td>Cult Movies, Dramas, Thrillers</td>\n",
              "      <td>United States</td>\n",
              "      <td>2019</td>\n",
              "      <td>11</td>\n",
              "      <td>20</td>\n",
              "      <td>Adults</td>\n",
              "      <td></td>\n",
              "    </tr>\n",
              "    <tr>\n",
              "      <th>8803</th>\n",
              "      <td>TV Show</td>\n",
              "      <td>Zombie Dumb</td>\n",
              "      <td>Unknown</td>\n",
              "      <td>other</td>\n",
              "      <td>2019-07-01</td>\n",
              "      <td>2018</td>\n",
              "      <td>TV-Y7</td>\n",
              "      <td></td>\n",
              "      <td>Kids' TV, Korean TV Shows, TV Comedies</td>\n",
              "      <td>other</td>\n",
              "      <td>2019</td>\n",
              "      <td>7</td>\n",
              "      <td>1</td>\n",
              "      <td>Older Kids</td>\n",
              "      <td>2</td>\n",
              "    </tr>\n",
              "    <tr>\n",
              "      <th>8804</th>\n",
              "      <td>Movie</td>\n",
              "      <td>Zombieland</td>\n",
              "      <td>Ruben Fleischer</td>\n",
              "      <td>United States</td>\n",
              "      <td>2019-11-01</td>\n",
              "      <td>2009</td>\n",
              "      <td>R</td>\n",
              "      <td>88</td>\n",
              "      <td>Comedies, Horror Movies</td>\n",
              "      <td>United States</td>\n",
              "      <td>2019</td>\n",
              "      <td>11</td>\n",
              "      <td>1</td>\n",
              "      <td>Adults</td>\n",
              "      <td></td>\n",
              "    </tr>\n",
              "    <tr>\n",
              "      <th>8805</th>\n",
              "      <td>Movie</td>\n",
              "      <td>Zoom</td>\n",
              "      <td>Peter Hewitt</td>\n",
              "      <td>United States</td>\n",
              "      <td>2020-01-11</td>\n",
              "      <td>2006</td>\n",
              "      <td>PG</td>\n",
              "      <td>88</td>\n",
              "      <td>Children &amp; Family Movies, Comedies</td>\n",
              "      <td>United States</td>\n",
              "      <td>2020</td>\n",
              "      <td>1</td>\n",
              "      <td>11</td>\n",
              "      <td>Older Kids</td>\n",
              "      <td></td>\n",
              "    </tr>\n",
              "    <tr>\n",
              "      <th>8806</th>\n",
              "      <td>Movie</td>\n",
              "      <td>Zubaan</td>\n",
              "      <td>Mozez Singh</td>\n",
              "      <td>India</td>\n",
              "      <td>2019-03-02</td>\n",
              "      <td>2015</td>\n",
              "      <td>TV-14</td>\n",
              "      <td>111</td>\n",
              "      <td>Dramas, International Movies, Music &amp; Musicals</td>\n",
              "      <td>India</td>\n",
              "      <td>2019</td>\n",
              "      <td>3</td>\n",
              "      <td>2</td>\n",
              "      <td>Teens</td>\n",
              "      <td></td>\n",
              "    </tr>\n",
              "  </tbody>\n",
              "</table>\n",
              "<p>8790 rows × 15 columns</p>\n",
              "</div>\n",
              "      <button class=\"colab-df-convert\" onclick=\"convertToInteractive('df-e15f9081-a406-44a9-bd12-531dd165d5e1')\"\n",
              "              title=\"Convert this dataframe to an interactive table.\"\n",
              "              style=\"display:none;\">\n",
              "        \n",
              "  <svg xmlns=\"http://www.w3.org/2000/svg\" height=\"24px\"viewBox=\"0 0 24 24\"\n",
              "       width=\"24px\">\n",
              "    <path d=\"M0 0h24v24H0V0z\" fill=\"none\"/>\n",
              "    <path d=\"M18.56 5.44l.94 2.06.94-2.06 2.06-.94-2.06-.94-.94-2.06-.94 2.06-2.06.94zm-11 1L8.5 8.5l.94-2.06 2.06-.94-2.06-.94L8.5 2.5l-.94 2.06-2.06.94zm10 10l.94 2.06.94-2.06 2.06-.94-2.06-.94-.94-2.06-.94 2.06-2.06.94z\"/><path d=\"M17.41 7.96l-1.37-1.37c-.4-.4-.92-.59-1.43-.59-.52 0-1.04.2-1.43.59L10.3 9.45l-7.72 7.72c-.78.78-.78 2.05 0 2.83L4 21.41c.39.39.9.59 1.41.59.51 0 1.02-.2 1.41-.59l7.78-7.78 2.81-2.81c.8-.78.8-2.07 0-2.86zM5.41 20L4 18.59l7.72-7.72 1.47 1.35L5.41 20z\"/>\n",
              "  </svg>\n",
              "      </button>\n",
              "      \n",
              "  <style>\n",
              "    .colab-df-container {\n",
              "      display:flex;\n",
              "      flex-wrap:wrap;\n",
              "      gap: 12px;\n",
              "    }\n",
              "\n",
              "    .colab-df-convert {\n",
              "      background-color: #E8F0FE;\n",
              "      border: none;\n",
              "      border-radius: 50%;\n",
              "      cursor: pointer;\n",
              "      display: none;\n",
              "      fill: #1967D2;\n",
              "      height: 32px;\n",
              "      padding: 0 0 0 0;\n",
              "      width: 32px;\n",
              "    }\n",
              "\n",
              "    .colab-df-convert:hover {\n",
              "      background-color: #E2EBFA;\n",
              "      box-shadow: 0px 1px 2px rgba(60, 64, 67, 0.3), 0px 1px 3px 1px rgba(60, 64, 67, 0.15);\n",
              "      fill: #174EA6;\n",
              "    }\n",
              "\n",
              "    [theme=dark] .colab-df-convert {\n",
              "      background-color: #3B4455;\n",
              "      fill: #D2E3FC;\n",
              "    }\n",
              "\n",
              "    [theme=dark] .colab-df-convert:hover {\n",
              "      background-color: #434B5C;\n",
              "      box-shadow: 0px 1px 3px 1px rgba(0, 0, 0, 0.15);\n",
              "      filter: drop-shadow(0px 1px 2px rgba(0, 0, 0, 0.3));\n",
              "      fill: #FFFFFF;\n",
              "    }\n",
              "  </style>\n",
              "\n",
              "      <script>\n",
              "        const buttonEl =\n",
              "          document.querySelector('#df-e15f9081-a406-44a9-bd12-531dd165d5e1 button.colab-df-convert');\n",
              "        buttonEl.style.display =\n",
              "          google.colab.kernel.accessAllowed ? 'block' : 'none';\n",
              "\n",
              "        async function convertToInteractive(key) {\n",
              "          const element = document.querySelector('#df-e15f9081-a406-44a9-bd12-531dd165d5e1');\n",
              "          const dataTable =\n",
              "            await google.colab.kernel.invokeFunction('convertToInteractive',\n",
              "                                                     [key], {});\n",
              "          if (!dataTable) return;\n",
              "\n",
              "          const docLinkHtml = 'Like what you see? Visit the ' +\n",
              "            '<a target=\"_blank\" href=https://colab.research.google.com/notebooks/data_table.ipynb>data table notebook</a>'\n",
              "            + ' to learn more about interactive tables.';\n",
              "          element.innerHTML = '';\n",
              "          dataTable['output_type'] = 'display_data';\n",
              "          await google.colab.output.renderOutput(dataTable, element);\n",
              "          const docLink = document.createElement('div');\n",
              "          docLink.innerHTML = docLinkHtml;\n",
              "          element.appendChild(docLink);\n",
              "        }\n",
              "      </script>\n",
              "    </div>\n",
              "  </div>\n",
              "  "
            ]
          },
          "metadata": {},
          "execution_count": 73
        }
      ],
      "source": [
        "df['season_count'] = df.apply(lambda x : x['duration'].split(\" \")[0] if \"Season\" in x['duration'] else \"\", axis = 1)\n",
        "df['duration'] = df.apply(lambda x : x['duration'].split(\" \")[0] if \"Season\" not in x['duration'] else \"\", axis = 1)\n",
        "df"
      ]
    },
    {
      "cell_type": "code",
      "source": [
        "df['movie_genre'] = df.apply(lambda x : x['listed_in'] if ( \"Documentaries\") in x['listed_in'] or \"Movie\" in x['listed_in'] else \"\", axis = 1)\n",
        "df['tvshow_genre'] = df.apply(lambda x : x['listed_in'] if ( \"Documentaries\") not in x['listed_in'] and \"Movie\" not in x['listed_in'] else \"\", axis = 1)\n",
        "df"
      ],
      "metadata": {
        "id": "An1eEOVAKQmm",
        "colab": {
          "base_uri": "https://localhost:8080/",
          "height": 642
        },
        "outputId": "3b8fdcc3-b5c4-4867-891f-98dddc3a09a2"
      },
      "execution_count": null,
      "outputs": [
        {
          "output_type": "execute_result",
          "data": {
            "text/plain": [
              "         type                  title         director        country  \\\n",
              "0       Movie   Dick Johnson Is Dead  Kirsten Johnson  United States   \n",
              "1     TV Show          Blood & Water          Unknown   South Africa   \n",
              "2     TV Show              Ganglands  Julien Leclercq          other   \n",
              "3     TV Show  Jailbirds New Orleans          Unknown          other   \n",
              "4     TV Show           Kota Factory          Unknown          India   \n",
              "...       ...                    ...              ...            ...   \n",
              "8802    Movie                 Zodiac    David Fincher  United States   \n",
              "8803  TV Show            Zombie Dumb          Unknown          other   \n",
              "8804    Movie             Zombieland  Ruben Fleischer  United States   \n",
              "8805    Movie                   Zoom     Peter Hewitt  United States   \n",
              "8806    Movie                 Zubaan      Mozez Singh          India   \n",
              "\n",
              "     date_added  release_year rating duration  \\\n",
              "0    2021-09-25          2020  PG-13       90   \n",
              "1    2021-09-24          2021  TV-MA            \n",
              "2    2021-09-24          2021  TV-MA            \n",
              "3    2021-09-24          2021  TV-MA            \n",
              "4    2021-09-24          2021  TV-MA            \n",
              "...         ...           ...    ...      ...   \n",
              "8802 2019-11-20          2007      R      158   \n",
              "8803 2019-07-01          2018  TV-Y7            \n",
              "8804 2019-11-01          2009      R       88   \n",
              "8805 2020-01-11          2006     PG       88   \n",
              "8806 2019-03-02          2015  TV-14      111   \n",
              "\n",
              "                                              listed_in        Country  \\\n",
              "0                                         Documentaries  United States   \n",
              "1       International TV Shows, TV Dramas, TV Mysteries   South Africa   \n",
              "2     Crime TV Shows, International TV Shows, TV Act...          other   \n",
              "3                                Docuseries, Reality TV          other   \n",
              "4     International TV Shows, Romantic TV Shows, TV ...          India   \n",
              "...                                                 ...            ...   \n",
              "8802                     Cult Movies, Dramas, Thrillers  United States   \n",
              "8803             Kids' TV, Korean TV Shows, TV Comedies          other   \n",
              "8804                            Comedies, Horror Movies  United States   \n",
              "8805                 Children & Family Movies, Comedies  United States   \n",
              "8806     Dramas, International Movies, Music & Musicals          India   \n",
              "\n",
              "      year_added  month_added  day_added target_ages season_count  \\\n",
              "0           2021            9         25       Teens                \n",
              "1           2021            9         24      Adults            2   \n",
              "2           2021            9         24      Adults            1   \n",
              "3           2021            9         24      Adults            1   \n",
              "4           2021            9         24      Adults            2   \n",
              "...          ...          ...        ...         ...          ...   \n",
              "8802        2019           11         20      Adults                \n",
              "8803        2019            7          1  Older Kids            2   \n",
              "8804        2019           11          1      Adults                \n",
              "8805        2020            1         11  Older Kids                \n",
              "8806        2019            3          2       Teens                \n",
              "\n",
              "                                         movie_genre  \\\n",
              "0                                      Documentaries   \n",
              "1                                                      \n",
              "2                                                      \n",
              "3                                                      \n",
              "4                                                      \n",
              "...                                              ...   \n",
              "8802                  Cult Movies, Dramas, Thrillers   \n",
              "8803                                                   \n",
              "8804                         Comedies, Horror Movies   \n",
              "8805              Children & Family Movies, Comedies   \n",
              "8806  Dramas, International Movies, Music & Musicals   \n",
              "\n",
              "                                           tvshow_genre  \n",
              "0                                                        \n",
              "1       International TV Shows, TV Dramas, TV Mysteries  \n",
              "2     Crime TV Shows, International TV Shows, TV Act...  \n",
              "3                                Docuseries, Reality TV  \n",
              "4     International TV Shows, Romantic TV Shows, TV ...  \n",
              "...                                                 ...  \n",
              "8802                                                     \n",
              "8803             Kids' TV, Korean TV Shows, TV Comedies  \n",
              "8804                                                     \n",
              "8805                                                     \n",
              "8806                                                     \n",
              "\n",
              "[8790 rows x 17 columns]"
            ],
            "text/html": [
              "\n",
              "  <div id=\"df-1479e2e3-a8f1-461a-aa6a-cf6f6458b1de\">\n",
              "    <div class=\"colab-df-container\">\n",
              "      <div>\n",
              "<style scoped>\n",
              "    .dataframe tbody tr th:only-of-type {\n",
              "        vertical-align: middle;\n",
              "    }\n",
              "\n",
              "    .dataframe tbody tr th {\n",
              "        vertical-align: top;\n",
              "    }\n",
              "\n",
              "    .dataframe thead th {\n",
              "        text-align: right;\n",
              "    }\n",
              "</style>\n",
              "<table border=\"1\" class=\"dataframe\">\n",
              "  <thead>\n",
              "    <tr style=\"text-align: right;\">\n",
              "      <th></th>\n",
              "      <th>type</th>\n",
              "      <th>title</th>\n",
              "      <th>director</th>\n",
              "      <th>country</th>\n",
              "      <th>date_added</th>\n",
              "      <th>release_year</th>\n",
              "      <th>rating</th>\n",
              "      <th>duration</th>\n",
              "      <th>listed_in</th>\n",
              "      <th>Country</th>\n",
              "      <th>year_added</th>\n",
              "      <th>month_added</th>\n",
              "      <th>day_added</th>\n",
              "      <th>target_ages</th>\n",
              "      <th>season_count</th>\n",
              "      <th>movie_genre</th>\n",
              "      <th>tvshow_genre</th>\n",
              "    </tr>\n",
              "  </thead>\n",
              "  <tbody>\n",
              "    <tr>\n",
              "      <th>0</th>\n",
              "      <td>Movie</td>\n",
              "      <td>Dick Johnson Is Dead</td>\n",
              "      <td>Kirsten Johnson</td>\n",
              "      <td>United States</td>\n",
              "      <td>2021-09-25</td>\n",
              "      <td>2020</td>\n",
              "      <td>PG-13</td>\n",
              "      <td>90</td>\n",
              "      <td>Documentaries</td>\n",
              "      <td>United States</td>\n",
              "      <td>2021</td>\n",
              "      <td>9</td>\n",
              "      <td>25</td>\n",
              "      <td>Teens</td>\n",
              "      <td></td>\n",
              "      <td>Documentaries</td>\n",
              "      <td></td>\n",
              "    </tr>\n",
              "    <tr>\n",
              "      <th>1</th>\n",
              "      <td>TV Show</td>\n",
              "      <td>Blood &amp; Water</td>\n",
              "      <td>Unknown</td>\n",
              "      <td>South Africa</td>\n",
              "      <td>2021-09-24</td>\n",
              "      <td>2021</td>\n",
              "      <td>TV-MA</td>\n",
              "      <td></td>\n",
              "      <td>International TV Shows, TV Dramas, TV Mysteries</td>\n",
              "      <td>South Africa</td>\n",
              "      <td>2021</td>\n",
              "      <td>9</td>\n",
              "      <td>24</td>\n",
              "      <td>Adults</td>\n",
              "      <td>2</td>\n",
              "      <td></td>\n",
              "      <td>International TV Shows, TV Dramas, TV Mysteries</td>\n",
              "    </tr>\n",
              "    <tr>\n",
              "      <th>2</th>\n",
              "      <td>TV Show</td>\n",
              "      <td>Ganglands</td>\n",
              "      <td>Julien Leclercq</td>\n",
              "      <td>other</td>\n",
              "      <td>2021-09-24</td>\n",
              "      <td>2021</td>\n",
              "      <td>TV-MA</td>\n",
              "      <td></td>\n",
              "      <td>Crime TV Shows, International TV Shows, TV Act...</td>\n",
              "      <td>other</td>\n",
              "      <td>2021</td>\n",
              "      <td>9</td>\n",
              "      <td>24</td>\n",
              "      <td>Adults</td>\n",
              "      <td>1</td>\n",
              "      <td></td>\n",
              "      <td>Crime TV Shows, International TV Shows, TV Act...</td>\n",
              "    </tr>\n",
              "    <tr>\n",
              "      <th>3</th>\n",
              "      <td>TV Show</td>\n",
              "      <td>Jailbirds New Orleans</td>\n",
              "      <td>Unknown</td>\n",
              "      <td>other</td>\n",
              "      <td>2021-09-24</td>\n",
              "      <td>2021</td>\n",
              "      <td>TV-MA</td>\n",
              "      <td></td>\n",
              "      <td>Docuseries, Reality TV</td>\n",
              "      <td>other</td>\n",
              "      <td>2021</td>\n",
              "      <td>9</td>\n",
              "      <td>24</td>\n",
              "      <td>Adults</td>\n",
              "      <td>1</td>\n",
              "      <td></td>\n",
              "      <td>Docuseries, Reality TV</td>\n",
              "    </tr>\n",
              "    <tr>\n",
              "      <th>4</th>\n",
              "      <td>TV Show</td>\n",
              "      <td>Kota Factory</td>\n",
              "      <td>Unknown</td>\n",
              "      <td>India</td>\n",
              "      <td>2021-09-24</td>\n",
              "      <td>2021</td>\n",
              "      <td>TV-MA</td>\n",
              "      <td></td>\n",
              "      <td>International TV Shows, Romantic TV Shows, TV ...</td>\n",
              "      <td>India</td>\n",
              "      <td>2021</td>\n",
              "      <td>9</td>\n",
              "      <td>24</td>\n",
              "      <td>Adults</td>\n",
              "      <td>2</td>\n",
              "      <td></td>\n",
              "      <td>International TV Shows, Romantic TV Shows, TV ...</td>\n",
              "    </tr>\n",
              "    <tr>\n",
              "      <th>...</th>\n",
              "      <td>...</td>\n",
              "      <td>...</td>\n",
              "      <td>...</td>\n",
              "      <td>...</td>\n",
              "      <td>...</td>\n",
              "      <td>...</td>\n",
              "      <td>...</td>\n",
              "      <td>...</td>\n",
              "      <td>...</td>\n",
              "      <td>...</td>\n",
              "      <td>...</td>\n",
              "      <td>...</td>\n",
              "      <td>...</td>\n",
              "      <td>...</td>\n",
              "      <td>...</td>\n",
              "      <td>...</td>\n",
              "      <td>...</td>\n",
              "    </tr>\n",
              "    <tr>\n",
              "      <th>8802</th>\n",
              "      <td>Movie</td>\n",
              "      <td>Zodiac</td>\n",
              "      <td>David Fincher</td>\n",
              "      <td>United States</td>\n",
              "      <td>2019-11-20</td>\n",
              "      <td>2007</td>\n",
              "      <td>R</td>\n",
              "      <td>158</td>\n",
              "      <td>Cult Movies, Dramas, Thrillers</td>\n",
              "      <td>United States</td>\n",
              "      <td>2019</td>\n",
              "      <td>11</td>\n",
              "      <td>20</td>\n",
              "      <td>Adults</td>\n",
              "      <td></td>\n",
              "      <td>Cult Movies, Dramas, Thrillers</td>\n",
              "      <td></td>\n",
              "    </tr>\n",
              "    <tr>\n",
              "      <th>8803</th>\n",
              "      <td>TV Show</td>\n",
              "      <td>Zombie Dumb</td>\n",
              "      <td>Unknown</td>\n",
              "      <td>other</td>\n",
              "      <td>2019-07-01</td>\n",
              "      <td>2018</td>\n",
              "      <td>TV-Y7</td>\n",
              "      <td></td>\n",
              "      <td>Kids' TV, Korean TV Shows, TV Comedies</td>\n",
              "      <td>other</td>\n",
              "      <td>2019</td>\n",
              "      <td>7</td>\n",
              "      <td>1</td>\n",
              "      <td>Older Kids</td>\n",
              "      <td>2</td>\n",
              "      <td></td>\n",
              "      <td>Kids' TV, Korean TV Shows, TV Comedies</td>\n",
              "    </tr>\n",
              "    <tr>\n",
              "      <th>8804</th>\n",
              "      <td>Movie</td>\n",
              "      <td>Zombieland</td>\n",
              "      <td>Ruben Fleischer</td>\n",
              "      <td>United States</td>\n",
              "      <td>2019-11-01</td>\n",
              "      <td>2009</td>\n",
              "      <td>R</td>\n",
              "      <td>88</td>\n",
              "      <td>Comedies, Horror Movies</td>\n",
              "      <td>United States</td>\n",
              "      <td>2019</td>\n",
              "      <td>11</td>\n",
              "      <td>1</td>\n",
              "      <td>Adults</td>\n",
              "      <td></td>\n",
              "      <td>Comedies, Horror Movies</td>\n",
              "      <td></td>\n",
              "    </tr>\n",
              "    <tr>\n",
              "      <th>8805</th>\n",
              "      <td>Movie</td>\n",
              "      <td>Zoom</td>\n",
              "      <td>Peter Hewitt</td>\n",
              "      <td>United States</td>\n",
              "      <td>2020-01-11</td>\n",
              "      <td>2006</td>\n",
              "      <td>PG</td>\n",
              "      <td>88</td>\n",
              "      <td>Children &amp; Family Movies, Comedies</td>\n",
              "      <td>United States</td>\n",
              "      <td>2020</td>\n",
              "      <td>1</td>\n",
              "      <td>11</td>\n",
              "      <td>Older Kids</td>\n",
              "      <td></td>\n",
              "      <td>Children &amp; Family Movies, Comedies</td>\n",
              "      <td></td>\n",
              "    </tr>\n",
              "    <tr>\n",
              "      <th>8806</th>\n",
              "      <td>Movie</td>\n",
              "      <td>Zubaan</td>\n",
              "      <td>Mozez Singh</td>\n",
              "      <td>India</td>\n",
              "      <td>2019-03-02</td>\n",
              "      <td>2015</td>\n",
              "      <td>TV-14</td>\n",
              "      <td>111</td>\n",
              "      <td>Dramas, International Movies, Music &amp; Musicals</td>\n",
              "      <td>India</td>\n",
              "      <td>2019</td>\n",
              "      <td>3</td>\n",
              "      <td>2</td>\n",
              "      <td>Teens</td>\n",
              "      <td></td>\n",
              "      <td>Dramas, International Movies, Music &amp; Musicals</td>\n",
              "      <td></td>\n",
              "    </tr>\n",
              "  </tbody>\n",
              "</table>\n",
              "<p>8790 rows × 17 columns</p>\n",
              "</div>\n",
              "      <button class=\"colab-df-convert\" onclick=\"convertToInteractive('df-1479e2e3-a8f1-461a-aa6a-cf6f6458b1de')\"\n",
              "              title=\"Convert this dataframe to an interactive table.\"\n",
              "              style=\"display:none;\">\n",
              "        \n",
              "  <svg xmlns=\"http://www.w3.org/2000/svg\" height=\"24px\"viewBox=\"0 0 24 24\"\n",
              "       width=\"24px\">\n",
              "    <path d=\"M0 0h24v24H0V0z\" fill=\"none\"/>\n",
              "    <path d=\"M18.56 5.44l.94 2.06.94-2.06 2.06-.94-2.06-.94-.94-2.06-.94 2.06-2.06.94zm-11 1L8.5 8.5l.94-2.06 2.06-.94-2.06-.94L8.5 2.5l-.94 2.06-2.06.94zm10 10l.94 2.06.94-2.06 2.06-.94-2.06-.94-.94-2.06-.94 2.06-2.06.94z\"/><path d=\"M17.41 7.96l-1.37-1.37c-.4-.4-.92-.59-1.43-.59-.52 0-1.04.2-1.43.59L10.3 9.45l-7.72 7.72c-.78.78-.78 2.05 0 2.83L4 21.41c.39.39.9.59 1.41.59.51 0 1.02-.2 1.41-.59l7.78-7.78 2.81-2.81c.8-.78.8-2.07 0-2.86zM5.41 20L4 18.59l7.72-7.72 1.47 1.35L5.41 20z\"/>\n",
              "  </svg>\n",
              "      </button>\n",
              "      \n",
              "  <style>\n",
              "    .colab-df-container {\n",
              "      display:flex;\n",
              "      flex-wrap:wrap;\n",
              "      gap: 12px;\n",
              "    }\n",
              "\n",
              "    .colab-df-convert {\n",
              "      background-color: #E8F0FE;\n",
              "      border: none;\n",
              "      border-radius: 50%;\n",
              "      cursor: pointer;\n",
              "      display: none;\n",
              "      fill: #1967D2;\n",
              "      height: 32px;\n",
              "      padding: 0 0 0 0;\n",
              "      width: 32px;\n",
              "    }\n",
              "\n",
              "    .colab-df-convert:hover {\n",
              "      background-color: #E2EBFA;\n",
              "      box-shadow: 0px 1px 2px rgba(60, 64, 67, 0.3), 0px 1px 3px 1px rgba(60, 64, 67, 0.15);\n",
              "      fill: #174EA6;\n",
              "    }\n",
              "\n",
              "    [theme=dark] .colab-df-convert {\n",
              "      background-color: #3B4455;\n",
              "      fill: #D2E3FC;\n",
              "    }\n",
              "\n",
              "    [theme=dark] .colab-df-convert:hover {\n",
              "      background-color: #434B5C;\n",
              "      box-shadow: 0px 1px 3px 1px rgba(0, 0, 0, 0.15);\n",
              "      filter: drop-shadow(0px 1px 2px rgba(0, 0, 0, 0.3));\n",
              "      fill: #FFFFFF;\n",
              "    }\n",
              "  </style>\n",
              "\n",
              "      <script>\n",
              "        const buttonEl =\n",
              "          document.querySelector('#df-1479e2e3-a8f1-461a-aa6a-cf6f6458b1de button.colab-df-convert');\n",
              "        buttonEl.style.display =\n",
              "          google.colab.kernel.accessAllowed ? 'block' : 'none';\n",
              "\n",
              "        async function convertToInteractive(key) {\n",
              "          const element = document.querySelector('#df-1479e2e3-a8f1-461a-aa6a-cf6f6458b1de');\n",
              "          const dataTable =\n",
              "            await google.colab.kernel.invokeFunction('convertToInteractive',\n",
              "                                                     [key], {});\n",
              "          if (!dataTable) return;\n",
              "\n",
              "          const docLinkHtml = 'Like what you see? Visit the ' +\n",
              "            '<a target=\"_blank\" href=https://colab.research.google.com/notebooks/data_table.ipynb>data table notebook</a>'\n",
              "            + ' to learn more about interactive tables.';\n",
              "          element.innerHTML = '';\n",
              "          dataTable['output_type'] = 'display_data';\n",
              "          await google.colab.output.renderOutput(dataTable, element);\n",
              "          const docLink = document.createElement('div');\n",
              "          docLink.innerHTML = docLinkHtml;\n",
              "          element.appendChild(docLink);\n",
              "        }\n",
              "      </script>\n",
              "    </div>\n",
              "  </div>\n",
              "  "
            ]
          },
          "metadata": {},
          "execution_count": 74
        }
      ]
    },
    {
      "cell_type": "markdown",
      "metadata": {
        "id": "qsBazMWSiDIT"
      },
      "source": [
        "# **The number of movies and tv_shows added each year**"
      ]
    },
    {
      "cell_type": "code",
      "source": [
        "df['year_added'].value_counts()"
      ],
      "metadata": {
        "colab": {
          "base_uri": "https://localhost:8080/"
        },
        "id": "9iksJqpKFBsl",
        "outputId": "913d4f15-9517-48da-f3de-2cccd5c124d1"
      },
      "execution_count": null,
      "outputs": [
        {
          "output_type": "execute_result",
          "data": {
            "text/plain": [
              "2019    2016\n",
              "2020    1879\n",
              "2018    1648\n",
              "2021    1498\n",
              "2017    1185\n",
              "2016     426\n",
              "2015      82\n",
              "2014      24\n",
              "2011      13\n",
              "2013      11\n",
              "2012       3\n",
              "2009       2\n",
              "2008       2\n",
              "2010       1\n",
              "Name: year_added, dtype: int64"
            ]
          },
          "metadata": {},
          "execution_count": 75
        }
      ]
    },
    {
      "cell_type": "code",
      "execution_count": null,
      "metadata": {
        "id": "pbetLBumZuUP",
        "colab": {
          "base_uri": "https://localhost:8080/",
          "height": 339
        },
        "outputId": "e9e3a56e-6677-44b2-c231-8147477bc77f"
      },
      "outputs": [
        {
          "output_type": "stream",
          "name": "stderr",
          "text": [
            "/usr/local/lib/python3.7/dist-packages/seaborn/_decorators.py:43: FutureWarning: Pass the following variable as a keyword arg: x. From version 0.12, the only valid positional argument will be `data`, and passing other arguments without an explicit keyword will result in an error or misinterpretation.\n",
            "  FutureWarning\n"
          ]
        },
        {
          "output_type": "execute_result",
          "data": {
            "text/plain": [
              "<matplotlib.axes._subplots.AxesSubplot at 0x7f57833f08d0>"
            ]
          },
          "metadata": {},
          "execution_count": 76
        },
        {
          "output_type": "display_data",
          "data": {
            "text/plain": [
              "<Figure size 432x288 with 1 Axes>"
            ],
            "image/png": "[encoded data removed]"
          },
          "metadata": {
            "needs_background": "light"
          }
        }
      ],
      "source": [
        "sns.countplot(df['year_added'])"
      ]
    },
    {
      "cell_type": "markdown",
      "source": [
        "# **The number of movies and tv_shows added each season**"
      ],
      "metadata": {
        "id": "JfnVwuolLxHl"
      }
    },
    {
      "cell_type": "code",
      "execution_count": null,
      "metadata": {
        "id": "JtkpEt5fLpQr"
      },
      "outputs": [],
      "source": [
        "movies=df[df['type']=='Movie']\n",
        "tv_show=df[df['type']=='TV Show']"
      ]
    },
    {
      "cell_type": "code",
      "source": [
        "def map_months(x):\n",
        "    if x in [12, 1, 2]:\n",
        "        return 'Winter'\n",
        "    elif x in [3, 4, 5]:\n",
        "        return 'Spring'\n",
        "    elif x in [6, 7, 8]:\n",
        "        return 'Summer'\n",
        "    elif x in [9, 10, 11]:\n",
        "        return 'Autumn'"
      ],
      "metadata": {
        "id": "LuHl_QxSLpQs"
      },
      "execution_count": null,
      "outputs": []
    },
    {
      "cell_type": "code",
      "source": [
        "movies['month_added'].apply(map_months)"
      ],
      "metadata": {
        "colab": {
          "base_uri": "https://localhost:8080/"
        },
        "outputId": "e3748710-d6e2-4611-aa6f-096758270a0f",
        "id": "Bsl9DJ7VLpQv"
      },
      "execution_count": null,
      "outputs": [
        {
          "output_type": "execute_result",
          "data": {
            "text/plain": [
              "0       Autumn\n",
              "6       Autumn\n",
              "7       Autumn\n",
              "9       Autumn\n",
              "12      Autumn\n",
              "         ...  \n",
              "8801    Spring\n",
              "8802    Autumn\n",
              "8804    Autumn\n",
              "8805    Winter\n",
              "8806    Spring\n",
              "Name: month_added, Length: 6126, dtype: object"
            ]
          },
          "metadata": {},
          "execution_count": 79
        }
      ]
    },
    {
      "cell_type": "code",
      "source": [
        "tv_show['month_added'].apply(map_months)"
      ],
      "metadata": {
        "colab": {
          "base_uri": "https://localhost:8080/"
        },
        "outputId": "da5797a5-a6c6-46be-bd0a-718651b4ac6a",
        "id": "3nVPhW3eLpQ_"
      },
      "execution_count": null,
      "outputs": [
        {
          "output_type": "execute_result",
          "data": {
            "text/plain": [
              "1       Autumn\n",
              "2       Autumn\n",
              "3       Autumn\n",
              "4       Autumn\n",
              "5       Autumn\n",
              "         ...  \n",
              "8795    Spring\n",
              "8796    Winter\n",
              "8797    Autumn\n",
              "8800    Winter\n",
              "8803    Summer\n",
              "Name: month_added, Length: 2664, dtype: object"
            ]
          },
          "metadata": {},
          "execution_count": 80
        }
      ]
    },
    {
      "cell_type": "code",
      "source": [
        "plt.subplot(1,2,1)\n",
        "sns.countplot(y=movies['month_added'].apply(map_months),data=movies)\n",
        "plt.title('seasons_movies')\n",
        "plt.subplot(1,2,2)\n",
        "sns.countplot(y=tv_show['month_added'].apply(map_months),data=tv_show)\n",
        "plt.title('month_movies')"
      ],
      "metadata": {
        "colab": {
          "base_uri": "https://localhost:8080/",
          "height": 917
        },
        "outputId": "beb6411f-cc88-4615-f483-c8196fe2a928",
        "id": "5ClutvY_LpRC"
      },
      "execution_count": null,
      "outputs": [
        {
          "output_type": "execute_result",
          "data": {
            "text/plain": [
              "Text(0.5, 1.0, 'month_movies')"
            ]
          },
          "metadata": {},
          "execution_count": 85
        },
        {
          "output_type": "display_data",
          "data": {
            "text/plain": [
              "<Figure size 1440x1080 with 2 Axes>"
            ],
            "image/png": "[encoded data removed]"
          },
          "metadata": {}
        }
      ]
    },
    {
      "cell_type": "markdown",
      "source": [
        "# **The number of movies and tv_shows added each month**"
      ],
      "metadata": {
        "id": "f5xSdw02MHNL"
      }
    },
    {
      "cell_type": "code",
      "source": [
        "plt.subplot(1,2,1)\n",
        "sns.countplot(x=movies['month_added'],data=movies)\n",
        "plt.title('month_movies')\n",
        "plt.subplot(1,2,2)\n",
        "sns.countplot(x=tv_show['month_added'],data=tv_show)\n",
        "plt.title('month_tv_show')"
      ],
      "metadata": {
        "colab": {
          "base_uri": "https://localhost:8080/",
          "height": 917
        },
        "outputId": "6e1ae4c4-4ad7-46b5-ccee-5daf883708ce",
        "id": "t3Vw-mRDLpRD"
      },
      "execution_count": null,
      "outputs": [
        {
          "output_type": "execute_result",
          "data": {
            "text/plain": [
              "Text(0.5, 1.0, 'month_tv_show')"
            ]
          },
          "metadata": {},
          "execution_count": 86
        },
        {
          "output_type": "display_data",
          "data": {
            "text/plain": [
              "<Figure size 1440x1080 with 2 Axes>"
            ],
            "image/png": "[encoded data removed]"
          },
          "metadata": {}
        }
      ]
    },
    {
      "cell_type": "markdown",
      "source": [
        "# **The number of movies and tv_shows released each year**"
      ],
      "metadata": {
        "id": "Bv6Ol_5wD8Et"
      }
    },
    {
      "cell_type": "code",
      "source": [
        "df['release_year'].value_counts()"
      ],
      "metadata": {
        "colab": {
          "base_uri": "https://localhost:8080/"
        },
        "id": "lhHAqZwFDktQ",
        "outputId": "6720ed3b-8ba3-4a30-9295-bad8c0bcfb5f"
      },
      "execution_count": null,
      "outputs": [
        {
          "output_type": "execute_result",
          "data": {
            "text/plain": [
              "2018    1146\n",
              "2017    1030\n",
              "2019    1030\n",
              "2020     953\n",
              "2016     901\n",
              "        ... \n",
              "1959       1\n",
              "1925       1\n",
              "1961       1\n",
              "1947       1\n",
              "1966       1\n",
              "Name: release_year, Length: 74, dtype: int64"
            ]
          },
          "metadata": {},
          "execution_count": 87
        }
      ]
    },
    {
      "cell_type": "code",
      "source": [
        "sns.countplot(x='release_year',data=df,order=df['release_year'].value_counts().head(15).index)\n",
        "plt.xticks(rotation=90)\n",
        "plt.show()"
      ],
      "metadata": {
        "colab": {
          "base_uri": "https://localhost:8080/",
          "height": 902
        },
        "id": "b28b-buPDkpw",
        "outputId": "506c55a4-8930-4da4-e500-0b2a50003653"
      },
      "execution_count": null,
      "outputs": [
        {
          "output_type": "display_data",
          "data": {
            "text/plain": [
              "<Figure size 1440x1080 with 1 Axes>"
            ],
            "image/png": "[encoded data removed]"
          },
          "metadata": {}
        }
      ]
    },
    {
      "cell_type": "markdown",
      "source": [
        "# **the first 30 shows released  in 2021**"
      ],
      "metadata": {
        "id": "dlfVsJpYEiv4"
      }
    },
    {
      "cell_type": "code",
      "source": [
        "title_2021=df[df['release_year']==2021]['title']"
      ],
      "metadata": {
        "id": "nUkFCoi6Dkm6"
      },
      "execution_count": null,
      "outputs": []
    },
    {
      "cell_type": "code",
      "source": [
        "sns.barplot(y=title_2021.values[:30],x=df['day_added'].index[:30])\n",
        "plt.xticks(rotation=90)\n",
        "plt.show()"
      ],
      "metadata": {
        "colab": {
          "base_uri": "https://localhost:8080/",
          "height": 870
        },
        "id": "G70hiyOdDkj-",
        "outputId": "e514fbe2-c3f8-4a45-fc8f-3d44bbd29a4b"
      },
      "execution_count": null,
      "outputs": [
        {
          "output_type": "display_data",
          "data": {
            "text/plain": [
              "<Figure size 1440x1080 with 1 Axes>"
            ],
            "image/png": "[encoded data removed]"
          },
          "metadata": {}
        }
      ]
    },
    {
      "cell_type": "markdown",
      "metadata": {
        "id": "DDtD4_F5jP4E"
      },
      "source": [
        "# **Movies VS TV_shows**"
      ]
    },
    {
      "cell_type": "code",
      "execution_count": null,
      "metadata": {
        "id": "aKqs-6YVidcP",
        "colab": {
          "base_uri": "https://localhost:8080/",
          "height": 321
        },
        "outputId": "df92e55a-ec0f-4d94-e0e6-a1bbf33afce2"
      },
      "outputs": [
        {
          "output_type": "execute_result",
          "data": {
            "text/plain": [
              "<function matplotlib.pyplot.show>"
            ]
          },
          "metadata": {},
          "execution_count": 94
        },
        {
          "output_type": "display_data",
          "data": {
            "text/plain": [
              "<Figure size 360x360 with 1 Axes>"
            ],
            "image/png": "[encoded data removed]"
          },
          "metadata": {}
        }
      ],
      "source": [
        "num_types=list(df['type'].value_counts().values)\n",
        "label_types=list(df['type'].value_counts().index)\n",
        "plt.figure(figsize=(5,5))\n",
        "plt.pie(x=num_types,labels=label_types,autopct='%1.2f%%',colors=['grey','red'])\n",
        "plt.show"
      ]
    },
    {
      "cell_type": "markdown",
      "source": [
        "\n",
        "**movies vs tv_shows via Years** "
      ],
      "metadata": {
        "id": "GIbKHxsjBIQm"
      }
    },
    {
      "cell_type": "code",
      "execution_count": null,
      "metadata": {
        "id": "rh4nBbaaZrza",
        "colab": {
          "base_uri": "https://localhost:8080/",
          "height": 503
        },
        "outputId": "44f4f126-1e6f-4c86-d717-20d3cdc20aaa"
      },
      "outputs": [
        {
          "output_type": "execute_result",
          "data": {
            "text/plain": [
              "<matplotlib.axes._subplots.AxesSubplot at 0x7f57817d8ad0>"
            ]
          },
          "metadata": {},
          "execution_count": 91
        },
        {
          "output_type": "display_data",
          "data": {
            "text/plain": [
              "<Figure size 720x576 with 1 Axes>"
            ],
            "image/png": "[encoded data removed]"
          },
          "metadata": {}
        }
      ],
      "source": [
        "movie = df[df['type'] == 'Movie']\n",
        "tv = df[df['type'] == 'TV Show']\n",
        "added_counts= movie['year_added'].value_counts()\n",
        "added_tv_counts= tv['year_added'].value_counts()\n",
        "\n",
        "plt.figure(figsize=(10,8))\n",
        "sns.lineplot(x=added_counts.index,y=added_counts.values, color=\"red\")\n",
        "sns.lineplot(x=added_tv_counts.index,y=added_tv_counts.values, color=\"black\")"
      ]
    },
    {
      "cell_type": "markdown",
      "source": [
        "## **Count of countries seperated by type**"
      ],
      "metadata": {
        "id": "dnIyWhbXCG8x"
      }
    },
    {
      "cell_type": "code",
      "execution_count": null,
      "metadata": {
        "id": "Kxk4FyTXTVOb",
        "colab": {
          "base_uri": "https://localhost:8080/",
          "height": 611
        },
        "outputId": "0a1640f1-4e34-4f6b-f7a0-45aa9f99cebb"
      },
      "outputs": [
        {
          "output_type": "display_data",
          "data": {
            "text/plain": [
              "<Figure size 1080x720 with 1 Axes>"
            ],
            "image/png": "[encoded data removed]"
          },
          "metadata": {}
        }
      ],
      "source": [
        "data_country=df[df['Country'] !='other']\n",
        "plt.figure(figsize=(15,10))\n",
        "\n",
        "sns.countplot(x='country', data=data_country, order=data_country['country'].value_counts().index[:10], hue= 'type' )\n",
        "plt.show()"
      ]
    },
    {
      "cell_type": "markdown",
      "metadata": {
        "id": "vJtvtFvJmafs"
      },
      "source": [
        "# **Top 10 Directors**"
      ]
    },
    {
      "cell_type": "code",
      "execution_count": null,
      "metadata": {
        "id": "ydP7qYSyTVOj",
        "colab": {
          "base_uri": "https://localhost:8080/",
          "height": 286
        },
        "outputId": "7474b33b-ec0b-4d1f-f82f-eac78a2a5c0b"
      },
      "outputs": [
        {
          "output_type": "execute_result",
          "data": {
            "text/plain": [
              "<matplotlib.axes._subplots.AxesSubplot at 0x7f5785ef0190>"
            ]
          },
          "metadata": {},
          "execution_count": 36
        },
        {
          "output_type": "display_data",
          "data": {
            "text/plain": [
              "<Figure size 432x288 with 1 Axes>"
            ],
            "image/png": "[encoded data removed]"
          },
          "metadata": {
            "needs_background": "light"
          }
        }
      ],
      "source": [
        "directors=df[df['director']!='Unknown']\n",
        "sns.barplot(x=directors['director'].value_counts().head(10).values,y=directors['director'].value_counts().head(10).index)"
      ]
    },
    {
      "cell_type": "markdown",
      "metadata": {
        "id": "4J8J76-qmRXN"
      },
      "source": [
        "# **categories**"
      ]
    },
    {
      "cell_type": "markdown",
      "source": [
        "## **Top 10 Movie Genres**"
      ],
      "metadata": {
        "id": "whp_2yhRJVbL"
      }
    },
    {
      "cell_type": "code",
      "execution_count": null,
      "metadata": {
        "id": "UNIghGmTvBw7",
        "colab": {
          "base_uri": "https://localhost:8080/",
          "height": 286
        },
        "outputId": "80c5edc3-6c25-49ec-9319-774b82841c0c"
      },
      "outputs": [
        {
          "output_type": "execute_result",
          "data": {
            "text/plain": [
              "<matplotlib.axes._subplots.AxesSubplot at 0x7f5785e60b50>"
            ]
          },
          "metadata": {},
          "execution_count": 37
        },
        {
          "output_type": "display_data",
          "data": {
            "text/plain": [
              "<Figure size 432x288 with 1 Axes>"
            ],
            "image/png": "[encoded data removed]"
          },
          "metadata": {
            "needs_background": "light"
          }
        }
      ],
      "source": [
        "movie=df[df['movie_genre']!='']\n",
        "sns.barplot(x=movie['movie_genre'].value_counts().head(10).values,y=movie['movie_genre'].value_counts().head(10).index)"
      ]
    },
    {
      "cell_type": "markdown",
      "source": [
        "## **Top 10 Tvshows Genres**"
      ],
      "metadata": {
        "id": "dvYtbQzTJjDf"
      }
    },
    {
      "cell_type": "code",
      "source": [
        "tvshow=df[df['tvshow_genre']!='']\n",
        "sns.barplot(x=tvshow['tvshow_genre'].value_counts().head(10).values,y=tvshow['tvshow_genre'].value_counts().head(10).index)"
      ],
      "metadata": {
        "colab": {
          "base_uri": "https://localhost:8080/",
          "height": 286
        },
        "id": "ViIgxjtAMCUe",
        "outputId": "8003fa59-fd28-4686-e5d4-ff48a073ecd2"
      },
      "execution_count": null,
      "outputs": [
        {
          "output_type": "execute_result",
          "data": {
            "text/plain": [
              "<matplotlib.axes._subplots.AxesSubplot at 0x7f5785c99290>"
            ]
          },
          "metadata": {},
          "execution_count": 38
        },
        {
          "output_type": "display_data",
          "data": {
            "text/plain": [
              "<Figure size 432x288 with 1 Axes>"
            ],
            "image/png": "[encoded data removed]"
          },
          "metadata": {
            "needs_background": "light"
          }
        }
      ]
    },
    {
      "cell_type": "markdown",
      "metadata": {
        "id": "AogjkJCbmEhF"
      },
      "source": [
        "# **Target ages**"
      ]
    },
    {
      "cell_type": "code",
      "execution_count": null,
      "metadata": {
        "colab": {
          "base_uri": "https://localhost:8080/",
          "height": 901
        },
        "id": "2WYAx1CKTVOp",
        "outputId": "67300fe8-5eae-4bfe-ede4-5565f8cb5c25"
      },
      "outputs": [
        {
          "output_type": "execute_result",
          "data": {
            "text/plain": [
              "<matplotlib.axes._subplots.AxesSubplot at 0x7f5781612c10>"
            ]
          },
          "metadata": {},
          "execution_count": 95
        },
        {
          "output_type": "display_data",
          "data": {
            "text/plain": [
              "<Figure size 1440x1080 with 1 Axes>"
            ],
            "image/png": "[encoded data removed]"
          },
          "metadata": {}
        }
      ],
      "source": [
        "sns.countplot(x='target_ages',data=df,order=df['target_ages'].value_counts().index)"
      ]
    },
    {
      "cell_type": "markdown",
      "source": [
        "**Count of ratings seperated by type**"
      ],
      "metadata": {
        "id": "lcu_zXD1MpBM"
      }
    },
    {
      "cell_type": "code",
      "execution_count": null,
      "metadata": {
        "colab": {
          "base_uri": "https://localhost:8080/",
          "height": 611
        },
        "id": "A0QG6ESDTVOq",
        "outputId": "7a3d4b15-5b3f-4ff4-c8c9-5cbb1049cf62"
      },
      "outputs": [
        {
          "output_type": "display_data",
          "data": {
            "text/plain": [
              "<Figure size 1080x720 with 1 Axes>"
            ],
            "image/png": "[encoded data removed]"
          },
          "metadata": {
            "needs_background": "light"
          }
        }
      ],
      "source": [
        "plt.figure(figsize=(15,10))\n",
        "sns.countplot(x='target_ages', data=df, order=df['target_ages'].value_counts().index[:10], hue= 'type' )\n",
        "plt.show()"
      ]
    }
  ],
  "metadata": {
    "colab": {
      "collapsed_sections": [
        "qsBazMWSiDIT",
        "JfnVwuolLxHl",
        "f5xSdw02MHNL",
        "Bv6Ol_5wD8Et",
        "dlfVsJpYEiv4",
        "DDtD4_F5jP4E",
        "vJtvtFvJmafs",
        "4J8J76-qmRXN",
        "whp_2yhRJVbL",
        "dvYtbQzTJjDf",
        "AogjkJCbmEhF"
      ],
      "name": "Netflix2.ipynb",
      "provenance": []
    },
    "kernelspec": {
      "display_name": "Python 3",
      "language": "python",
      "name": "python3"
    },
    "language_info": {
      "codemirror_mode": {
        "name": "ipython",
        "version": 3
      },
      "file_extension": ".py",
      "mimetype": "text/x-python",
      "name": "python",
      "nbconvert_exporter": "python",
      "pygments_lexer": "ipython3",
      "version": "3.8.5"
    }
  },
  "nbformat": 4,
  "nbformat_minor": 0
}